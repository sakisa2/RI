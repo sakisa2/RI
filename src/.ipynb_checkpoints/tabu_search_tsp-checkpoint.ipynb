{
 "cells": [
  {
   "cell_type": "code",
   "execution_count": 1,
   "id": "1de3a98d",
   "metadata": {},
   "outputs": [],
   "source": [
    "import numpy as np\n",
    "import random\n",
    "import copy\n",
    "import math\n",
    "import matplotlib.pyplot as plt"
   ]
  },
  {
   "cell_type": "code",
   "execution_count": 2,
   "id": "c36cb5fa",
   "metadata": {},
   "outputs": [],
   "source": [
    "def euclidean_distance(city1, city2):\n",
    "    x1, y1 = city1\n",
    "    x2, y2 = city2\n",
    "    return math.sqrt((x2 - x1)**2 + (y2 - y1)**2)"
   ]
  },
  {
   "cell_type": "code",
   "execution_count": 3,
   "id": "7dd5aa98",
   "metadata": {},
   "outputs": [],
   "source": [
    "def swap(array, i, j):\n",
    "    array[i], array[j] = array[j], array[i]"
   ]
  },
  {
   "cell_type": "code",
   "execution_count": 4,
   "id": "d18f82e2",
   "metadata": {},
   "outputs": [],
   "source": [
    "def initialize_solution(num_cities):\n",
    "    # Generisanje pocetnog resenja, na primer, slucajnom permutacijom gradova\n",
    "    solution = random.sample(range(num_cities), num_cities)\n",
    "    return solution"
   ]
  },
  {
   "cell_type": "code",
   "execution_count": 5,
   "id": "64f19a08",
   "metadata": {},
   "outputs": [],
   "source": [
    "def calculate_solution(solution, cities_coordinates):\n",
    "    # Evaluacija resenja na osnovu ukupnog rastojanja u TSP-u\n",
    "    total_distance = 0\n",
    "    num_cities = len(solution)\n",
    "    \n",
    "    for i in range(num_cities - 1):\n",
    "        total_distance += euclidean_distance(cities_coordinates[solution[i]], cities_coordinates[solution[i + 1]])\n",
    "    \n",
    "    # Dodajemo rastojanje od poslednjeg do prvog grada\n",
    "    total_distance += euclidean_distance(cities_coordinates[solution[-1]], cities_coordinates[solution[0]])\n",
    "    \n",
    "    return total_distance"
   ]
  },
  {
   "cell_type": "code",
   "execution_count": 6,
   "id": "4f5afeeb",
   "metadata": {},
   "outputs": [],
   "source": [
    "def get_neighbors(current_solution):\n",
    "    neighborhood = []\n",
    "    n = len(current_solution)\n",
    "\n",
    "    #zamena dva nasumicno odabrana grada\n",
    "    for _ in range(n):\n",
    "        i, j = random.sample(range(1, n), 2)  #preskacem prvi grad\n",
    "        neighbor = current_solution.copy()\n",
    "        swap(neighbor, i, j)\n",
    "        neighborhood.append(neighbor)\n",
    "\n",
    "    #inverzija dela puta\n",
    "    for _ in range(n):\n",
    "        i, j = sorted(random.sample(range(1, n), 2))\n",
    "        neighbor = current_solution[:]\n",
    "        neighbor[i:j + 1] = reversed(neighbor[i:j + 1])\n",
    "        neighborhood.append(neighbor)\n",
    "\n",
    "    return neighborhood\n",
    "#optimizacija: eliminise potrebu za pravljenjem kopije celog resenja pri svakoj inverziji dela puta\n",
    "#direktno se modifikuje trenutno resenje"
   ]
  },
  {
   "cell_type": "code",
   "execution_count": 7,
   "id": "62defb84",
   "metadata": {},
   "outputs": [],
   "source": [
    "def find_best_neighbor(non_tabu_neighbors, cities_coordinates):\n",
    "    best_neighbor = None\n",
    "    best_distance = float('inf')  # Postavljamo na beskonacno kao pocetnu vrednost\n",
    "\n",
    "    for neighbor in non_tabu_neighbors:\n",
    "        current_distance = calculate_solution(neighbor, cities_coordinates)\n",
    "\n",
    "        if current_distance < best_distance:\n",
    "            best_distance = current_distance\n",
    "            best_neighbor = neighbor\n",
    "\n",
    "    return best_neighbor"
   ]
  },
  {
   "cell_type": "code",
   "execution_count": 8,
   "id": "cb931c30",
   "metadata": {},
   "outputs": [],
   "source": [
    "def tabu_search_tsp(cities_coordinates, num_iterations, tabu_length):\n",
    "    # Inicijalizacija pocetnog resenja\n",
    "    current_solution = initialize_solution(len(cities_coordinates))\n",
    "    \n",
    "    best_solution = current_solution\n",
    "    best_value = calculate_solution(current_solution, cities_coordinates)\n",
    "    tabu_list = []\n",
    "    \n",
    "    for iteration in range(num_iterations):\n",
    "        neighborhood = get_neighbors(current_solution)\n",
    "        non_tabu_neighbors = [neighbor for neighbor in neighborhood if neighbor not in tabu_list]\n",
    "\n",
    "        if not non_tabu_neighbors:\n",
    "            # Svi susedi su na tabu listi, ponovno pokrecemo pretragu\n",
    "            continue\n",
    "\n",
    "        next_solution = find_best_neighbor(non_tabu_neighbors, cities_coordinates)\n",
    "        tabu_list.append(next_solution)\n",
    "\n",
    "        if len(tabu_list) > tabu_length:\n",
    "            tabu_list.pop(0)  # Uklanjamo najstarije resenje sa tabu liste\n",
    "        \n",
    "        value1 = calculate_solution(next_solution, cities_coordinates)\n",
    "        value2 = calculate_solution(best_solution, cities_coordinates)\n",
    "        \n",
    "        if value1 < value2:\n",
    "            best_solution = next_solution\n",
    "            \n",
    "            if value1 < best_value:\n",
    "                best_value = value1\n",
    "\n",
    "        current_solution = next_solution\n",
    "\n",
    "    return best_solution, best_value"
   ]
  },
  {
   "cell_type": "code",
   "execution_count": 9,
   "id": "c16a9b20",
   "metadata": {},
   "outputs": [],
   "source": [
    "def read_coordinates_from_file(file_path):\n",
    "    coordinates = []\n",
    "\n",
    "    with open(file_path, 'r') as file:\n",
    "        for line_number, line in enumerate(file, start=1):\n",
    "            # Razdvajanje linije na delove pomocu razmaka\n",
    "            parts = line.split()\n",
    "\n",
    "            # Preskakanje praznih linija\n",
    "            if not parts:\n",
    "                continue\n",
    "\n",
    "            # Provera da li linija sadrzi tacno dva broja (x i y koordinate)\n",
    "            if len(parts) != 2:\n",
    "                print(f\"Skipping line {line_number}: {line.strip()} (invalid values)\")\n",
    "                continue\n",
    "\n",
    "            # Konvertovanje delova u float vrednosti\n",
    "            try:\n",
    "                x, y = map(float, parts)\n",
    "            except ValueError:\n",
    "                print(f\"Skipping line {line_number}: {line.strip()} (invalid values)\")\n",
    "                continue\n",
    "\n",
    "            # Dodavanje koordinata u listu\n",
    "            coordinates.append((x, y))\n",
    "\n",
    "    return coordinates"
   ]
  },
  {
   "cell_type": "code",
   "execution_count": 10,
   "id": "1d99b3c3",
   "metadata": {},
   "outputs": [],
   "source": [
    "cities_coordinates = read_coordinates_from_file('tabu.txt')"
   ]
  },
  {
   "cell_type": "code",
   "execution_count": 11,
   "id": "a2050415",
   "metadata": {},
   "outputs": [],
   "source": [
    "#cities_coordinates = [(0, 0), (3, 4), (1, 1), (5, 2)]\n",
    "best_solution, best_value = tabu_search_tsp(cities_coordinates, 100, 10)\n",
    "print(\"Best TSP solution: \", best_solution)\n",
    "print(\"Total distance: \", best_value)"
   ]
  },
  {
   "cell_type": "code",
   "execution_count": 12,
   "id": "1abf8464",
   "metadata": {
    "scrolled": true
   },
   "outputs": [],
   "source": [
    "def plot_tsp_solution(cities_coordinates, best_solution):\n",
    "    # ekstrahujemo koordinate iz solution\n",
    "    try:\n",
    "        x_coords = [cities_coordinates[i][0] for i in best_solution]\n",
    "        y_coords = [cities_coordinates[i][1] for i in best_solution]\n",
    "\n",
    "        # dodajemo na kraju pocetni cvor\n",
    "        x_coords.append(x_coords[0])\n",
    "        y_coords.append(y_coords[0])\n",
    "\n",
    "        plt.figure(figsize=(8, 6))\n",
    "        plt.plot(x_coords, y_coords, marker='o', linestyle='-', color='b')\n",
    "        plt.title('TSP Solution')\n",
    "        plt.xlabel('X Coordinate')\n",
    "        plt.ylabel('Y Coordinate')\n",
    "        plt.grid(True)\n",
    "        plt.show()\n",
    "\n",
    "    except IndexError as e:\n",
    "        print(f\"Error: {e}. Please check the values in best_solution and cities_coordinates.\")\n"
   ]
  },
  {
   "cell_type": "code",
   "execution_count": 13,
   "id": "506d9891",
   "metadata": {},
   "outputs": [],
   "source": [
    "print(\"Visual representation of the path: \")\n",
    "plot_tsp_solution(cities_coordinates, best_solution)"
   ]
  },
  {
   "cell_type": "markdown",
   "id": "cca1281c",
   "metadata": {},
   "source": [
    "Veliki ulazi"
   ]
  },
  {
   "cell_type": "code",
   "execution_count": 14,
   "id": "e8a8629e",
   "metadata": {},
   "outputs": [],
   "source": [
    "import json\n",
    "import time"
   ]
  },
  {
   "cell_type": "code",
   "execution_count": 15,
   "id": "93880f4a",
   "metadata": {},
   "outputs": [],
   "source": [
    "def load_test_data(file_path):\n",
    "    with open(file_path, 'r') as file:\n",
    "        test_data = json.load(file)\n",
    "    return test_data"
   ]
  },
  {
   "cell_type": "code",
   "execution_count": 16,
   "id": "6e3844f2",
   "metadata": {},
   "outputs": [],
   "source": [
    "test_data = load_test_data('../tests_symmetric/test_100.json')"
   ]
  },
  {
   "cell_type": "code",
   "execution_count": 17,
   "id": "1544e44f",
   "metadata": {},
   "outputs": [],
   "source": [
    "cities_coordinates = test_data['cities_coordinates']"
   ]
  },
  {
   "cell_type": "code",
   "execution_count": 18,
   "id": "62901f7b",
   "metadata": {
    "scrolled": true
   },
   "outputs": [],
   "source": [
    "start_time = time.time()\n",
    "num_iterations = 100\n",
    "tabu_length = 50\n",
    "best_solution, best_value = tabu_search_tsp(cities_coordinates, num_iterations, tabu_length)\n",
    "\n",
    "end_time = time.time()\n",
    "execution_time = end_time - start_time\n",
    "\n",
    "print(\"Najbolje pronadjeno resenje:\", best_solution)\n",
    "print(\"Najbolja vrednost:\", best_value)\n",
    "print(\"Vreme izvrsavanja algoritma:\", execution_time, \"seconds\")"
   ]
  },
  {
   "cell_type": "markdown",
   "id": "881dc37a",
   "metadata": {},
   "source": [
    "Grafik zavisnosti brzine vremena izvrsavanja algoritma u odnosu na broj iteracija"
   ]
  },
  {
   "cell_type": "code",
   "execution_count": 19,
   "id": "74413cc9",
   "metadata": {
    "scrolled": true
   },
   "outputs": [],
   "source": [
    "num_iterations_list = [10, 50, 100, 200, 500, 800, 1000]\n",
    "execution_time_list = []\n",
    "\n",
    "for num_iterations in num_iterations_list:\n",
    "    start_time = time.time()\n",
    "\n",
    "    best_solution, best_value = tabu_search_tsp(cities_coordinates, num_iterations, tabu_length)\n",
    "    end_time = time.time()\n",
    "    execution_time = end_time - start_time\n",
    "    execution_time_list.append(execution_time)\n",
    "\n",
    "plt.plot(num_iterations_list, execution_time_list, marker='o')\n",
    "plt.title('Zavisnost vremena izvrsavanja od broja iteracija')\n",
    "plt.xlabel('Broj iteracija')\n",
    "plt.ylabel('Vreme izvrsavanja (s)')\n",
    "plt.grid(True)\n",
    "plt.show()"
   ]
  },
  {
   "cell_type": "markdown",
   "id": "9acd9bc3",
   "metadata": {},
   "source": [
    "Grafik zavisnosti vremena izvrsavanja algoritma od duzine tabu liste"
   ]
  },
  {
   "cell_type": "code",
   "execution_count": null,
   "id": "ff533db9",
   "metadata": {},
   "outputs": [],
   "source": [
    "tabu_length_list = [10, 50, 100, 200, 500, 1000]\n",
    "execution_time_list = []\n",
    "\n",
    "for tabu_length in tabu_length_list:\n",
    "    start_time = time.time()\n",
    "    \n",
    "    best_solution, best_value = tabu_search_tsp(cities_coordinates, num_iterations, tabu_length)\n",
    "    \n",
    "    end_time = time.time()\n",
    "    \n",
    "    execution_time = end_time - start_time\n",
    "    execution_time_list.append(execution_time)\n",
    "\n",
    "\n",
    "plt.plot(tabu_length_list, execution_time_list, marker='o')\n",
    "plt.title('Zavisnost vremena izvrsavanja od duzine tabu liste')\n",
    "plt.xlabel('Duzina tabu liste')\n",
    "plt.ylabel('Vreme izvrsavanja (s)')\n",
    "plt.grid(True)\n",
    "plt.show()"
   ]
  },
  {
   "cell_type": "code",
   "execution_count": null,
   "id": "e3c84d2f",
   "metadata": {},
   "outputs": [],
   "source": []
  }
 ],
 "metadata": {
  "kernelspec": {
   "display_name": "Python 3 (ipykernel)",
   "language": "python",
   "name": "python3"
  },
  "language_info": {
   "codemirror_mode": {
    "name": "ipython",
    "version": 3
   },
   "file_extension": ".py",
   "mimetype": "text/x-python",
   "name": "python",
   "nbconvert_exporter": "python",
   "pygments_lexer": "ipython3",
   "version": "3.8.10"
  }
 },
 "nbformat": 4,
 "nbformat_minor": 5
}
