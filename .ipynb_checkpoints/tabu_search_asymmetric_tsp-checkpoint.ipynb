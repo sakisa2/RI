{
 "cells": [
  {
   "cell_type": "code",
   "execution_count": 1,
   "id": "1db5776f",
   "metadata": {},
   "outputs": [],
   "source": [
    "import numpy as np\n",
    "import random\n",
    "import copy\n",
    "import math\n",
    "import matplotlib.pyplot as plt"
   ]
  },
  {
   "cell_type": "code",
   "execution_count": 2,
   "id": "bd41c11e",
   "metadata": {},
   "outputs": [],
   "source": [
    "def initialize_solution(num_cities):\n",
    "    # Generisanje pocetnog resenja, na primer, slucajnom permutacijom gradova\n",
    "    solution = random.sample(range(num_cities), num_cities)\n",
    "    return solution"
   ]
  },
  {
   "cell_type": "code",
   "execution_count": 3,
   "id": "d9c4be79",
   "metadata": {},
   "outputs": [],
   "source": [
    "def asymmetric_swap(array, i, j):\n",
    "    array[i], array[j] = array[j], array[i]"
   ]
  },
  {
   "cell_type": "code",
   "execution_count": 4,
   "id": "3da08d06",
   "metadata": {},
   "outputs": [],
   "source": [
    "def asymmetric_distance(city1, city2, distances_from_city):\n",
    "    return distances_from_city[city1][city2]"
   ]
  },
  {
   "cell_type": "code",
   "execution_count": 5,
   "id": "4aaab359",
   "metadata": {},
   "outputs": [],
   "source": [
    "def calculate_solution_asymmetric(solution, distances_from_city):\n",
    "    total_distance = 0\n",
    "    num_cities = len(solution)\n",
    " \n",
    "    for i in range(num_cities - 1):\n",
    "        total_distance += asymmetric_distance(solution[i], solution[i + 1], distances_from_city)\n",
    "    total_distance += asymmetric_distance(solution[-1], solution[0], distances_from_city)\n",
    "    return total_distance"
   ]
  },
  {
   "cell_type": "code",
   "execution_count": 6,
   "id": "91290674",
   "metadata": {},
   "outputs": [],
   "source": [
    "def get_asymmetric_neighbors(current_solution):\n",
    "    neighborhood = []\n",
    "    n = len(current_solution)\n",
    "\n",
    "    for _ in range(n):\n",
    "        i, j = random.sample(range(1,n), 2)\n",
    "        neighbor = current_solution.copy()\n",
    "        asymmetric_swap(neighbor, i, j)\n",
    "        neighborhood.append(neighbor)\n",
    "\n",
    "    for _ in range(n):\n",
    "        i, j = sorted(random.sample(range(1,n), 2))\n",
    "        neighbor = current_solution.copy()\n",
    "        neighbor[i:j + 1] = reversed(neighbor[i:j + 1])\n",
    "        neighborhood.append(neighbor)\n",
    "\n",
    "    return neighborhood"
   ]
  },
  {
   "cell_type": "code",
   "execution_count": 7,
   "id": "3d634286",
   "metadata": {},
   "outputs": [],
   "source": [
    "def find_best_asymmetric_neighbor(non_tabu_neighbors, distances_from_city):\n",
    "    best_neighbor = None\n",
    "    best_distance = float('inf')\n",
    "\n",
    "    for neighbor in non_tabu_neighbors:\n",
    "        current_distance = calculate_solution_asymmetric(neighbor, distances_from_city)\n",
    "\n",
    "        if current_distance < best_distance:\n",
    "            best_distance = current_distance\n",
    "            best_neighbor = neighbor\n",
    "\n",
    "    return best_neighbor"
   ]
  },
  {
   "cell_type": "code",
   "execution_count": 15,
   "id": "7828725e",
   "metadata": {},
   "outputs": [],
   "source": [
    "def tabu_search_tsp_asymmetric(distances_from_city, num_iterations, tabu_length):\n",
    "    current_solution = initialize_solution(len(distances_from_city))\n",
    "    print(\"pocetno: \")\n",
    "    print(current_solution)\n",
    "    best_solution = current_solution\n",
    "    best_value = calculate_solution_asymmetric(current_solution, distances_from_city)\n",
    "    print(\"value: \")\n",
    "    print(best_value)\n",
    "    tabu_list = []\n",
    "\n",
    "    for iteration in range(num_iterations):\n",
    "        neighborhood = get_asymmetric_neighbors(current_solution)\n",
    "        non_tabu_neighbors = [neighbor for neighbor in neighborhood if neighbor not in tabu_list]\n",
    "\n",
    "        if not non_tabu_neighbors:\n",
    "            continue\n",
    "\n",
    "        next_solution = find_best_asymmetric_neighbor(non_tabu_neighbors, distances_from_city)\n",
    "        tabu_list.append(next_solution)\n",
    "\n",
    "        if len(tabu_list) > tabu_length:\n",
    "            tabu_list.pop(0)\n",
    "\n",
    "        value1 = calculate_solution_asymmetric(next_solution, distances_from_city)\n",
    "        value2 = calculate_solution_asymmetric(best_solution, distances_from_city)\n",
    "\n",
    "        if value1 < value2:\n",
    "            best_solution = next_solution\n",
    "\n",
    "            if value1 < best_value:\n",
    "                best_value = value1\n",
    "\n",
    "        current_solution = next_solution\n",
    "\n",
    "    return best_solution, best_value"
   ]
  },
  {
   "cell_type": "code",
   "execution_count": 16,
   "id": "f03161f3",
   "metadata": {},
   "outputs": [],
   "source": [
    "import json"
   ]
  },
  {
   "cell_type": "code",
   "execution_count": 17,
   "id": "4f54183e",
   "metadata": {},
   "outputs": [],
   "source": [
    "def load_distances_from_json(file_path):\n",
    "    with open(file_path, 'r') as f:\n",
    "        data = json.load(f)\n",
    "        distances_from_city = data['distances_from_city']\n",
    "    return distances_from_city"
   ]
  },
  {
   "cell_type": "code",
   "execution_count": 18,
   "id": "248724d0",
   "metadata": {},
   "outputs": [
    {
     "ename": "KeyError",
     "evalue": "'distances'",
     "output_type": "error",
     "traceback": [
      "\u001b[0;31m---------------------------------------------------------------------------\u001b[0m",
      "\u001b[0;31mKeyError\u001b[0m                                  Traceback (most recent call last)",
      "Cell \u001b[0;32mIn[18], line 14\u001b[0m\n\u001b[1;32m     11\u001b[0m     \u001b[38;5;28mprint\u001b[39m(\u001b[38;5;124m\"\u001b[39m\u001b[38;5;124mTotal distance: \u001b[39m\u001b[38;5;124m\"\u001b[39m, best_value)\n\u001b[1;32m     13\u001b[0m \u001b[38;5;66;03m# Pokretanje testa\u001b[39;00m\n\u001b[0;32m---> 14\u001b[0m \u001b[43mtest_tabu_search_tsp_asymmetric_with_json\u001b[49m\u001b[43m(\u001b[49m\u001b[43m)\u001b[49m\n",
      "Cell \u001b[0;32mIn[18], line 2\u001b[0m, in \u001b[0;36mtest_tabu_search_tsp_asymmetric_with_json\u001b[0;34m()\u001b[0m\n\u001b[1;32m      1\u001b[0m \u001b[38;5;28;01mdef\u001b[39;00m \u001b[38;5;21mtest_tabu_search_tsp_asymmetric_with_json\u001b[39m():\n\u001b[0;32m----> 2\u001b[0m     distances_from_city \u001b[38;5;241m=\u001b[39m \u001b[43mload_distances_from_json\u001b[49m\u001b[43m(\u001b[49m\u001b[38;5;124;43m'\u001b[39;49m\u001b[38;5;124;43mdistances_from_city.json\u001b[39;49m\u001b[38;5;124;43m'\u001b[39;49m\u001b[43m)\u001b[49m\n\u001b[1;32m      4\u001b[0m     num_iterations \u001b[38;5;241m=\u001b[39m \u001b[38;5;241m100\u001b[39m\n\u001b[1;32m      5\u001b[0m     tabu_length \u001b[38;5;241m=\u001b[39m \u001b[38;5;241m10\u001b[39m\n",
      "Cell \u001b[0;32mIn[17], line 4\u001b[0m, in \u001b[0;36mload_distances_from_json\u001b[0;34m(file_path)\u001b[0m\n\u001b[1;32m      2\u001b[0m \u001b[38;5;28;01mwith\u001b[39;00m \u001b[38;5;28mopen\u001b[39m(file_path, \u001b[38;5;124m'\u001b[39m\u001b[38;5;124mr\u001b[39m\u001b[38;5;124m'\u001b[39m) \u001b[38;5;28;01mas\u001b[39;00m f:\n\u001b[1;32m      3\u001b[0m     data \u001b[38;5;241m=\u001b[39m json\u001b[38;5;241m.\u001b[39mload(f)\n\u001b[0;32m----> 4\u001b[0m     distances_from_city \u001b[38;5;241m=\u001b[39m \u001b[43mdata\u001b[49m\u001b[43m[\u001b[49m\u001b[38;5;124;43m'\u001b[39;49m\u001b[38;5;124;43mdistances\u001b[39;49m\u001b[38;5;124;43m'\u001b[39;49m\u001b[43m]\u001b[49m\n\u001b[1;32m      5\u001b[0m \u001b[38;5;28;01mreturn\u001b[39;00m distances_from_city\n",
      "\u001b[0;31mKeyError\u001b[0m: 'distances'"
     ]
    }
   ],
   "source": [
    "def test_tabu_search_tsp_asymmetric_with_json():\n",
    "    distances_from_city = load_distances_from_json('distances_from_city.json')\n",
    "    \n",
    "    num_iterations = 100\n",
    "    tabu_length = 10\n",
    "    \n",
    "    best_solution, best_value = tabu_search_tsp_asymmetric(distances_from_city, num_iterations, tabu_length)\n",
    "    \n",
    "    # Ispis rezultata\n",
    "    print(\"Best TSP solution: \", best_solution)\n",
    "    print(\"Total distance: \", best_value)\n",
    "\n",
    "# Pokretanje testa\n",
    "test_tabu_search_tsp_asymmetric_with_json()"
   ]
  },
  {
   "cell_type": "code",
   "execution_count": 14,
   "id": "44b2aadc",
   "metadata": {},
   "outputs": [],
   "source": [
    "def plot_tsp_path(coordinates, best_solution):\n",
    "    x_coords = [coordinates[city][0] for city in best_solution]\n",
    "    y_coords = [coordinates[city][1] for city in best_solution]\n",
    "\n",
    "    # Dodajemo poslednji segment koji povezuje poslednji grad sa prvim\n",
    "    x_coords.append(x_coords[0])\n",
    "    y_coords.append(y_coords[0])\n",
    "\n",
    "    plt.plot(x_coords, y_coords, marker='o', linestyle='-')\n",
    "    plt.title('Asymmetric TSP Solution')\n",
    "    plt.xlabel('X Coordinate')\n",
    "    plt.ylabel('Y Coordinate')\n",
    "    plt.grid(True)\n",
    "    plt.show()"
   ]
  },
  {
   "cell_type": "code",
   "execution_count": 25,
   "id": "77d88693",
   "metadata": {},
   "outputs": [],
   "source": [
    "# Primer poziva funkcije za crtanje putanje sa stvarnim koordinatama gradova\n",
    "coordinates = [\n",
    "    (0, 0),  # Koordinate za grad A\n",
    "    (3, 4),  # Koordinate za grad B\n",
    "    (1, 1),  # Koordinate za grad C\n",
    "    (5, 2)   # Koordinate za grad D\n",
    "]"
   ]
  },
  {
   "cell_type": "code",
   "execution_count": 26,
   "id": "bf8936da",
   "metadata": {},
   "outputs": [
    {
     "name": "stdout",
     "output_type": "stream",
     "text": [
      "Visual representation of the path: \n"
     ]
    },
    {
     "data": {
      "image/png": "[encoded data removed]",
      "text/plain": [
       "<Figure size 640x480 with 1 Axes>"
      ]
     },
     "metadata": {},
     "output_type": "display_data"
    }
   ],
   "source": [
    "print(\"Visual representation of the path: \")\n",
    "plot_tsp_path(coordinates, best_solution)"
   ]
  },
  {
   "cell_type": "code",
   "execution_count": null,
   "id": "a098ac03",
   "metadata": {},
   "outputs": [],
   "source": []
  }
 ],
 "metadata": {
  "kernelspec": {
   "display_name": "Python 3 (ipykernel)",
   "language": "python",
   "name": "python3"
  },
  "language_info": {
   "codemirror_mode": {
    "name": "ipython",
    "version": 3
   },
   "file_extension": ".py",
   "mimetype": "text/x-python",
   "name": "python",
   "nbconvert_exporter": "python",
   "pygments_lexer": "ipython3",
   "version": "3.8.10"
  }
 },
 "nbformat": 4,
 "nbformat_minor": 5
}
