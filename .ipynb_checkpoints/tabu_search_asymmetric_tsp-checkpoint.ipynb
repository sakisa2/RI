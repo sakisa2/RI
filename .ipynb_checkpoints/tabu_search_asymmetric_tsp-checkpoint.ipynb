{
 "cells": [
  {
   "cell_type": "code",
   "execution_count": 2,
   "id": "e6a31ac5",
   "metadata": {},
   "outputs": [],
   "source": [
    "import numpy as np\n",
    "import random\n",
    "import copy\n",
    "import math\n",
    "import matplotlib.pyplot as plt"
   ]
  },
  {
   "cell_type": "code",
   "execution_count": 13,
   "id": "1f2ca9b2",
   "metadata": {},
   "outputs": [],
   "source": [
    "distances_from_city=[[0, 5, 2, 7],\n",
    "                     [3, 0, 4, 6],\n",
    "                     [1, 2, 0, 4],\n",
    "                     [8, 3, 6, 0]]"
   ]
  },
  {
   "cell_type": "code",
   "execution_count": 14,
   "id": "6a4075fd",
   "metadata": {},
   "outputs": [],
   "source": [
    "def initialize_solution(num_cities):\n",
    "    # Generisanje početnog rešenja, na primer, slučajnom permutacijom gradova\n",
    "    solution = random.sample(range(num_cities), num_cities)\n",
    "    return solution"
   ]
  },
  {
   "cell_type": "code",
   "execution_count": 15,
   "id": "912da545",
   "metadata": {},
   "outputs": [],
   "source": [
    "def asymmetric_swap(arr, i, j):\n",
    "    arr[i], arr[j] = arr[j], arr[i]"
   ]
  },
  {
   "cell_type": "code",
   "execution_count": null,
   "id": "6cb10956",
   "metadata": {},
   "outputs": [],
   "source": [
    "def asymmetric_distance(city1, city2, distances_from_city):\n",
    "    return distances_from_city[city1][city2]"
   ]
  },
  {
   "cell_type": "code",
   "execution_count": 16,
   "id": "6a123e67",
   "metadata": {},
   "outputs": [],
   "source": [
    "def calculate_solution_asymmetric(solution, distances_from_city):\n",
    "    total_distance = 0\n",
    "    num_cities = len(solution)\n",
    " \n",
    "    for i in range(num_cities - 1):\n",
    "        total_distance += asymmetric_distance(solution[i], solution[i + 1], distances_from_city)\n",
    "    total_distance += asymmetric_distance(solution[-1], solution[0], distances_from_city)\n",
    "    return total_distance"
   ]
  },
  {
   "cell_type": "code",
   "execution_count": 17,
   "id": "81af87a9",
   "metadata": {},
   "outputs": [],
   "source": [
    "def get_asymmetric_neighbors(current_solution):\n",
    "    neighborhood = []\n",
    "    n = len(current_solution)\n",
    "\n",
    "    for _ in range(n):\n",
    "        i, j = random.sample(range(n), 2)\n",
    "        neighbor = current_solution.copy()\n",
    "        asymmetric_swap(neighbor, i, j)\n",
    "        neighborhood.append(neighbor)\n",
    "\n",
    "    for _ in range(n):\n",
    "        i, j = sorted(random.sample(range(n), 2))\n",
    "        neighbor = current_solution.copy()\n",
    "        neighbor[i:j + 1] = reversed(neighbor[i:j + 1])\n",
    "        neighborhood.append(neighbor)\n",
    "\n",
    "    return neighborhood"
   ]
  },
  {
   "cell_type": "code",
   "execution_count": 18,
   "id": "97e8c2dc",
   "metadata": {},
   "outputs": [],
   "source": [
    "def find_best_asymmetric_neighbor(non_tabu_neighbors, distances_from_city):\n",
    "    best_neighbor = None\n",
    "    best_distance = float('inf')\n",
    "\n",
    "    for neighbor in non_tabu_neighbors:\n",
    "        current_distance = calculate_solution_asymmetric(neighbor, distances_from_city)\n",
    "\n",
    "        if current_distance < best_distance:\n",
    "            best_distance = current_distance\n",
    "            best_neighbor = neighbor\n",
    "\n",
    "    return best_neighbor"
   ]
  },
  {
   "cell_type": "code",
   "execution_count": 19,
   "id": "dd382821",
   "metadata": {},
   "outputs": [],
   "source": [
    "def tabu_search_tsp_asymmetric(distances_from_city, max_iterations, tabu_tenure):\n",
    "    current_solution = initialize_solution(len(distances_from_city))\n",
    "    best_solution = current_solution\n",
    "    best_value = calculate_solution_asymmetric(current_solution, distances_from_city)\n",
    "    tabu_list = []\n",
    "\n",
    "    for iteration in range(max_iterations):\n",
    "        neighborhood = get_asymmetric_neighbors(current_solution)\n",
    "        non_tabu_neighbors = [neighbor for neighbor in neighborhood if neighbor not in tabu_list]\n",
    "\n",
    "        if not non_tabu_neighbors:\n",
    "            continue\n",
    "\n",
    "        next_solution = find_best_asymmetric_neighbor(non_tabu_neighbors, distances_from_city)\n",
    "        tabu_list.append(next_solution)\n",
    "\n",
    "        if len(tabu_list) > tabu_tenure:\n",
    "            tabu_list.pop(0)\n",
    "\n",
    "        value1 = calculate_solution_asymmetric(next_solution, distances_from_city)\n",
    "        value2 = calculate_solution_asymmetric(best_solution, distances_from_city)\n",
    "\n",
    "        if value1 < value2:\n",
    "            best_solution = next_solution\n",
    "\n",
    "            if value1 < best_value:\n",
    "                best_value = value1\n",
    "\n",
    "        current_solution = next_solution\n",
    "\n",
    "    return best_solution, best_value"
   ]
  },
  {
   "cell_type": "code",
   "execution_count": 20,
   "id": "cd4e3b1f",
   "metadata": {},
   "outputs": [
    {
     "ename": "NameError",
     "evalue": "name 'asymmetric_distance' is not defined",
     "output_type": "error",
     "traceback": [
      "\u001b[0;31m---------------------------------------------------------------------------\u001b[0m",
      "\u001b[0;31mNameError\u001b[0m                                 Traceback (most recent call last)",
      "Cell \u001b[0;32mIn[20], line 1\u001b[0m\n\u001b[0;32m----> 1\u001b[0m best_solution, best_value \u001b[38;5;241m=\u001b[39m \u001b[43mtabu_search_tsp_asymmetric\u001b[49m\u001b[43m(\u001b[49m\u001b[43mdistances_from_city\u001b[49m\u001b[43m,\u001b[49m\u001b[43m \u001b[49m\u001b[38;5;241;43m10\u001b[39;49m\u001b[43m,\u001b[49m\u001b[43m \u001b[49m\u001b[38;5;241;43m10\u001b[39;49m\u001b[43m)\u001b[49m\n\u001b[1;32m      2\u001b[0m \u001b[38;5;28mprint\u001b[39m(\u001b[38;5;124m\"\u001b[39m\u001b[38;5;124mBest TSP solution: \u001b[39m\u001b[38;5;124m\"\u001b[39m, best_solution)\n\u001b[1;32m      3\u001b[0m \u001b[38;5;28mprint\u001b[39m(\u001b[38;5;124m\"\u001b[39m\u001b[38;5;124mTotal distance: \u001b[39m\u001b[38;5;124m\"\u001b[39m, best_value)\n",
      "Cell \u001b[0;32mIn[19], line 4\u001b[0m, in \u001b[0;36mtabu_search_tsp_asymmetric\u001b[0;34m(distances_from_city, max_iterations, tabu_tenure)\u001b[0m\n\u001b[1;32m      2\u001b[0m current_solution \u001b[38;5;241m=\u001b[39m initialize_solution(\u001b[38;5;28mlen\u001b[39m(distances_from_city))\n\u001b[1;32m      3\u001b[0m best_solution \u001b[38;5;241m=\u001b[39m current_solution\n\u001b[0;32m----> 4\u001b[0m best_value \u001b[38;5;241m=\u001b[39m \u001b[43mcalculate_solution_asymmetric\u001b[49m\u001b[43m(\u001b[49m\u001b[43mcurrent_solution\u001b[49m\u001b[43m,\u001b[49m\u001b[43m \u001b[49m\u001b[43mdistances_from_city\u001b[49m\u001b[43m)\u001b[49m\n\u001b[1;32m      5\u001b[0m tabu_list \u001b[38;5;241m=\u001b[39m []\n\u001b[1;32m      7\u001b[0m \u001b[38;5;28;01mfor\u001b[39;00m iteration \u001b[38;5;129;01min\u001b[39;00m \u001b[38;5;28mrange\u001b[39m(max_iterations):\n",
      "Cell \u001b[0;32mIn[16], line 6\u001b[0m, in \u001b[0;36mcalculate_solution_asymmetric\u001b[0;34m(solution, distances_from_city)\u001b[0m\n\u001b[1;32m      3\u001b[0m num_cities \u001b[38;5;241m=\u001b[39m \u001b[38;5;28mlen\u001b[39m(solution)\n\u001b[1;32m      5\u001b[0m \u001b[38;5;28;01mfor\u001b[39;00m i \u001b[38;5;129;01min\u001b[39;00m \u001b[38;5;28mrange\u001b[39m(num_cities \u001b[38;5;241m-\u001b[39m \u001b[38;5;241m1\u001b[39m):\n\u001b[0;32m----> 6\u001b[0m     total_distance \u001b[38;5;241m+\u001b[39m\u001b[38;5;241m=\u001b[39m \u001b[43masymmetric_distance\u001b[49m(solution[i], solution[i \u001b[38;5;241m+\u001b[39m \u001b[38;5;241m1\u001b[39m], distances_from_city)\n\u001b[1;32m      7\u001b[0m total_distance \u001b[38;5;241m+\u001b[39m\u001b[38;5;241m=\u001b[39m asymmetric_distance(solution[\u001b[38;5;241m-\u001b[39m\u001b[38;5;241m1\u001b[39m], solution[\u001b[38;5;241m0\u001b[39m], distances_from_city)\n\u001b[1;32m      8\u001b[0m \u001b[38;5;28;01mreturn\u001b[39;00m total_distance\n",
      "\u001b[0;31mNameError\u001b[0m: name 'asymmetric_distance' is not defined"
     ]
    }
   ],
   "source": [
    "best_solution, best_value = tabu_search_tsp_asymmetric(distances_from_city, 10, 10)\n",
    "print(\"Best TSP solution: \", best_solution)\n",
    "print(\"Total distance: \", best_value)"
   ]
  },
  {
   "cell_type": "code",
   "execution_count": 21,
   "id": "2f3a523a",
   "metadata": {},
   "outputs": [],
   "source": [
    "def plot_tsp_path(coordinates, best_solution):\n",
    "    x_coords = [coordinates[city][0] for city in best_solution]\n",
    "    y_coords = [coordinates[city][1] for city in best_solution]\n",
    "\n",
    "    # Dodajemo poslednji segment koji povezuje poslednji grad sa prvim\n",
    "    x_coords.append(x_coords[0])\n",
    "    y_coords.append(y_coords[0])\n",
    "\n",
    "    plt.plot(x_coords, y_coords, marker='o', linestyle='-')\n",
    "    plt.title('Asymmetric TSP Solution')\n",
    "    plt.xlabel('X Coordinate')\n",
    "    plt.ylabel('Y Coordinate')\n",
    "    plt.grid(True)\n",
    "    plt.show()"
   ]
  },
  {
   "cell_type": "code",
   "execution_count": 11,
   "id": "bb945146",
   "metadata": {},
   "outputs": [],
   "source": [
    "# Primer poziva funkcije za crtanje putanje sa stvarnim koordinatama gradova\n",
    "coordinates = [\n",
    "    (0, 0),  # Koordinate za grad A\n",
    "    (3, 4),  # Koordinate za grad B\n",
    "    (1, 1),  # Koordinate za grad C\n",
    "    (5, 2)   # Koordinate za grad D\n",
    "]"
   ]
  },
  {
   "cell_type": "code",
   "execution_count": 12,
   "id": "3812f324",
   "metadata": {},
   "outputs": [
    {
     "name": "stdout",
     "output_type": "stream",
     "text": [
      "Visual representation of the path: \n"
     ]
    },
    {
     "ename": "NameError",
     "evalue": "name 'plot_tsp_path' is not defined",
     "output_type": "error",
     "traceback": [
      "\u001b[0;31m---------------------------------------------------------------------------\u001b[0m",
      "\u001b[0;31mNameError\u001b[0m                                 Traceback (most recent call last)",
      "Cell \u001b[0;32mIn[12], line 2\u001b[0m\n\u001b[1;32m      1\u001b[0m \u001b[38;5;28mprint\u001b[39m(\u001b[38;5;124m\"\u001b[39m\u001b[38;5;124mVisual representation of the path: \u001b[39m\u001b[38;5;124m\"\u001b[39m)\n\u001b[0;32m----> 2\u001b[0m \u001b[43mplot_tsp_path\u001b[49m(coordinates, best_solution)\n",
      "\u001b[0;31mNameError\u001b[0m: name 'plot_tsp_path' is not defined"
     ]
    }
   ],
   "source": [
    "print(\"Visual representation of the path: \")\n",
    "plot_tsp_path(coordinates, best_solution)"
   ]
  },
  {
   "cell_type": "code",
   "execution_count": null,
   "id": "38a4a2d1",
   "metadata": {},
   "outputs": [],
   "source": []
  }
 ],
 "metadata": {
  "kernelspec": {
   "display_name": "Python 3 (ipykernel)",
   "language": "python",
   "name": "python3"
  },
  "language_info": {
   "codemirror_mode": {
    "name": "ipython",
    "version": 3
   },
   "file_extension": ".py",
   "mimetype": "text/x-python",
   "name": "python",
   "nbconvert_exporter": "python",
   "pygments_lexer": "ipython3",
   "version": "3.8.10"
  }
 },
 "nbformat": 4,
 "nbformat_minor": 5
}
