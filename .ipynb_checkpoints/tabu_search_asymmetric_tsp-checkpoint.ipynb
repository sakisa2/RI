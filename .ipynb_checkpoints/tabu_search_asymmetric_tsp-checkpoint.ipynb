{
 "cells": [
  {
   "cell_type": "code",
   "execution_count": 171,
   "id": "1db5776f",
   "metadata": {},
   "outputs": [],
   "source": [
    "import numpy as np\n",
    "import random\n",
    "import copy\n",
    "import math\n",
    "import matplotlib.pyplot as plt"
   ]
  },
  {
   "cell_type": "code",
   "execution_count": 172,
   "id": "21d463c8",
   "metadata": {},
   "outputs": [],
   "source": [
    "distances_from_city=[[0, 5, 2, 7],\n",
    "                     [3, 0, 4, 6],\n",
    "                     [1, 2, 0, 4],\n",
    "                     [8, 3, 6, 0]]"
   ]
  },
  {
   "cell_type": "code",
   "execution_count": 173,
   "id": "bd41c11e",
   "metadata": {},
   "outputs": [],
   "source": [
    "def initialize_solution(num_cities):\n",
    "    # Generisanje pocetnog resenja, na primer, slucajnom permutacijom gradova\n",
    "    solution = random.sample(range(num_cities), num_cities)\n",
    "    return solution"
   ]
  },
  {
   "cell_type": "code",
   "execution_count": 174,
   "id": "d9c4be79",
   "metadata": {},
   "outputs": [],
   "source": [
    "def asymmetric_swap(array, i, j):\n",
    "    array[i], array[j] = array[j], array[i]"
   ]
  },
  {
   "cell_type": "code",
   "execution_count": 175,
   "id": "3da08d06",
   "metadata": {},
   "outputs": [],
   "source": [
    "def asymmetric_distance(city1, city2, distances_from_city):\n",
    "    return distances_from_city[city1][city2]"
   ]
  },
  {
   "cell_type": "code",
   "execution_count": 176,
   "id": "4aaab359",
   "metadata": {},
   "outputs": [],
   "source": [
    "def calculate_solution_asymmetric(solution, distances_from_city):\n",
    "    total_distance = 0\n",
    "    num_cities = len(solution)\n",
    " \n",
    "    for i in range(num_cities - 1):\n",
    "        total_distance += asymmetric_distance(solution[i], solution[i + 1], distances_from_city)\n",
    "    total_distance += asymmetric_distance(solution[-1], solution[0], distances_from_city)\n",
    "    return total_distance"
   ]
  },
  {
   "cell_type": "code",
   "execution_count": 177,
   "id": "91290674",
   "metadata": {},
   "outputs": [],
   "source": [
    "def get_asymmetric_neighbors(current_solution):\n",
    "    neighborhood = []\n",
    "    n = len(current_solution)\n",
    "\n",
    "    for _ in range(n):\n",
    "        i, j = random.sample(range(1,n), 2)\n",
    "        neighbor = current_solution.copy()\n",
    "        asymmetric_swap(neighbor, i, j)\n",
    "        neighborhood.append(neighbor)\n",
    "\n",
    "    for _ in range(n):\n",
    "        i, j = sorted(random.sample(range(1,n), 2))\n",
    "        neighbor = current_solution.copy()\n",
    "        neighbor[i:j + 1] = reversed(neighbor[i:j + 1])\n",
    "        neighborhood.append(neighbor)\n",
    "\n",
    "    return neighborhood"
   ]
  },
  {
   "cell_type": "code",
   "execution_count": 178,
   "id": "3d634286",
   "metadata": {},
   "outputs": [],
   "source": [
    "def find_best_asymmetric_neighbor(non_tabu_neighbors, distances_from_city):\n",
    "    best_neighbor = None\n",
    "    best_distance = float('inf')\n",
    "\n",
    "    for neighbor in non_tabu_neighbors:\n",
    "        current_distance = calculate_solution_asymmetric(neighbor, distances_from_city)\n",
    "\n",
    "        if current_distance < best_distance:\n",
    "            best_distance = current_distance\n",
    "            best_neighbor = neighbor\n",
    "\n",
    "    return best_neighbor"
   ]
  },
  {
   "cell_type": "code",
   "execution_count": 160,
   "id": "7828725e",
   "metadata": {},
   "outputs": [],
   "source": [
    "def tabu_search_tsp_asymmetric(distances_from_city, num_iterations, tabu_length):\n",
    "    current_solution = initialize_solution(len(distances_from_city))\n",
    "    \n",
    "    best_solution = current_solution\n",
    "    best_value = calculate_solution_asymmetric(current_solution, distances_from_city)\n",
    "    \n",
    "    tabu_list = []\n",
    "\n",
    "    for iteration in range(num_iterations):\n",
    "        neighborhood = get_asymmetric_neighbors(current_solution)\n",
    "        non_tabu_neighbors = [neighbor for neighbor in neighborhood if neighbor not in tabu_list]\n",
    "\n",
    "        if not non_tabu_neighbors:\n",
    "            continue\n",
    "\n",
    "        next_solution = find_best_asymmetric_neighbor(non_tabu_neighbors, distances_from_city)\n",
    "        tabu_list.append(next_solution)\n",
    "\n",
    "        if len(tabu_list) > tabu_length:\n",
    "            tabu_list.pop(0)\n",
    "\n",
    "        value1 = calculate_solution_asymmetric(next_solution, distances_from_city)\n",
    "        value2 = calculate_solution_asymmetric(best_solution, distances_from_city)\n",
    "\n",
    "        if value1 < value2:\n",
    "            best_solution = next_solution\n",
    "\n",
    "            if value1 < best_value:\n",
    "                best_value = value1\n",
    "\n",
    "        current_solution = next_solution\n",
    "\n",
    "    return best_solution, best_value"
   ]
  },
  {
   "cell_type": "code",
   "execution_count": 161,
   "id": "248724d0",
   "metadata": {},
   "outputs": [
    {
     "name": "stdout",
     "output_type": "stream",
     "text": [
      "pocetno: \n",
      "[2, 3, 1, 0]\n",
      "value: \n",
      "12\n",
      "Best TSP solution:  [2, 3, 1, 0]\n",
      "Total distance:  12\n"
     ]
    }
   ],
   "source": [
    "best_solution, best_value = tabu_search_tsp_asymmetric(distances_from_city, 10, 10)\n",
    "print(\"Best TSP solution: \", best_solution)\n",
    "print(\"Total distance: \", best_value)"
   ]
  },
  {
   "cell_type": "code",
   "execution_count": 162,
   "id": "44b2aadc",
   "metadata": {},
   "outputs": [],
   "source": [
    "def plot_tsp_path(coordinates, best_solution):\n",
    "    x_coords = [coordinates[city][0] for city in best_solution]\n",
    "    y_coords = [coordinates[city][1] for city in best_solution]\n",
    "\n",
    "    # Dodajemo poslednji segment koji povezuje poslednji grad sa prvim\n",
    "    x_coords.append(x_coords[0])\n",
    "    y_coords.append(y_coords[0])\n",
    "\n",
    "    plt.plot(x_coords, y_coords, marker='o', linestyle='-')\n",
    "    plt.title('Asymmetric TSP Solution')\n",
    "    plt.xlabel('X Coordinate')\n",
    "    plt.ylabel('Y Coordinate')\n",
    "    plt.grid(True)\n",
    "    plt.show()"
   ]
  },
  {
   "cell_type": "code",
   "execution_count": 163,
   "id": "77d88693",
   "metadata": {},
   "outputs": [],
   "source": [
    "# Primer poziva funkcije za crtanje putanje sa stvarnim koordinatama gradova\n",
    "coordinates = [\n",
    "    (0, 0),  # Koordinate za grad A\n",
    "    (3, 4),  # Koordinate za grad B\n",
    "    (1, 1),  # Koordinate za grad C\n",
    "    (5, 2)   # Koordinate za grad D\n",
    "]"
   ]
  },
  {
   "cell_type": "code",
   "execution_count": 164,
   "id": "bf8936da",
   "metadata": {},
   "outputs": [
    {
     "name": "stdout",
     "output_type": "stream",
     "text": [
      "Visual representation of the path: \n"
     ]
    },
    {
     "data": {
      "image/png": "[encoded data removed]",
      "text/plain": [
       "<Figure size 640x480 with 1 Axes>"
      ]
     },
     "metadata": {},
     "output_type": "display_data"
    }
   ],
   "source": [
    "print(\"Visual representation of the path: \")\n",
    "plot_tsp_path(coordinates, best_solution)"
   ]
  },
  {
   "cell_type": "code",
   "execution_count": 165,
   "id": "a098ac03",
   "metadata": {},
   "outputs": [
    {
     "name": "stdout",
     "output_type": "stream",
     "text": [
      "Test za veliki ulaz:\n"
     ]
    }
   ],
   "source": [
    "print(\"Test za veliki ulaz:\")"
   ]
  },
  {
   "cell_type": "code",
   "execution_count": 166,
   "id": "33e7dc47",
   "metadata": {},
   "outputs": [],
   "source": [
    "import json\n",
    "import time"
   ]
  },
  {
   "cell_type": "code",
   "execution_count": 167,
   "id": "6f4baa47",
   "metadata": {},
   "outputs": [],
   "source": [
    "def load_distances_from_json(file_path):\n",
    "    with open(file_path, 'r') as f:\n",
    "        data = json.load(f)\n",
    "        distances_from_city = data['distances']\n",
    "    return distances_from_city"
   ]
  },
  {
   "cell_type": "code",
   "execution_count": 168,
   "id": "b9ae4600",
   "metadata": {},
   "outputs": [
    {
     "name": "stdout",
     "output_type": "stream",
     "text": [
      "pocetno: \n",
      "[3, 7, 6, 9, 8, 1, 5, 2, 4, 0]\n",
      "value: \n",
      "540\n",
      "Najbolje pronadjeno resenje:  [3, 7, 6, 9, 8, 1, 5, 2, 4, 0]\n",
      "Najbolja vrednost:  540\n",
      "Vreme izvrsavanja algoritma: 0.029778242111206055 seconds\n"
     ]
    }
   ],
   "source": [
    "def test_tabu_search_tsp_asymmetric_with_json():\n",
    "    distances_from_city = load_distances_from_json('distances.json')\n",
    "    \n",
    "    start_time = time.time()\n",
    "    \n",
    "    num_iterations = 100\n",
    "    tabu_length = 10\n",
    "    \n",
    "    best_solution, best_value = tabu_search_tsp_asymmetric(distances_from_city, num_iterations, tabu_length)\n",
    "    \n",
    "    end_time = time.time()\n",
    "    execution_time = end_time - start_time\n",
    "    \n",
    "    print(\"Najbolje pronadjeno resenje: \", best_solution)\n",
    "    print(\"Najbolja vrednost: \", best_value)\n",
    "    print(\"Vreme izvrsavanja algoritma:\", execution_time, \"seconds\")\n",
    "\n",
    "# Pokretanje testa\n",
    "test_tabu_search_tsp_asymmetric_with_json()"
   ]
  },
  {
   "cell_type": "code",
   "execution_count": 169,
   "id": "19e83263",
   "metadata": {
    "scrolled": true
   },
   "outputs": [
    {
     "name": "stdout",
     "output_type": "stream",
     "text": [
      "pocetno: \n",
      "[0, 2, 1, 3]\n",
      "value: \n",
      "18\n",
      "pocetno: \n",
      "[2, 1, 3, 0]\n",
      "value: \n",
      "18\n",
      "pocetno: \n",
      "[1, 3, 0, 2]\n",
      "value: \n",
      "18\n",
      "pocetno: \n",
      "[0, 1, 2, 3]\n",
      "value: \n",
      "21\n",
      "pocetno: \n",
      "[1, 0, 3, 2]\n",
      "value: \n",
      "18\n",
      "pocetno: \n",
      "[0, 2, 1, 3]\n",
      "value: \n",
      "18\n"
     ]
    },
    {
     "data": {
      "image/png": "[encoded data removed]",
      "text/plain": [
       "<Figure size 640x480 with 1 Axes>"
      ]
     },
     "metadata": {},
     "output_type": "display_data"
    }
   ],
   "source": [
    "execution_times = []\n",
    "    \n",
    "tabu_length = 10 #fiksna vrednost\n",
    "iterations_list = [10, 50, 100, 200, 500, 1000]  \n",
    "    \n",
    "for num_iterations in iterations_list:\n",
    "    start_time = time.time()\n",
    "    best_solution, best_value = tabu_search_tsp_asymmetric(distances_from_city, num_iterations, tabu_length)\n",
    "    end_time = time.time()\n",
    "    execution_time = end_time - start_time\n",
    "    execution_times.append(execution_time)\n",
    "        \n",
    "plt.plot(iterations_list, execution_times, marker='o')\n",
    "plt.title('Zavisnost vremena izvrsavanja od broja iteracija')\n",
    "plt.xlabel('Broj iteracija')\n",
    "plt.ylabel('Vreme izvrsavanja (s)')\n",
    "plt.grid(True)\n",
    "plt.show()"
   ]
  },
  {
   "cell_type": "markdown",
   "id": "406ac338",
   "metadata": {},
   "source": [
    "Grafik zavisnosti vremena izvrsavanja algoritma od duzine tabu liste"
   ]
  },
  {
   "cell_type": "markdown",
   "id": "bdf5c913",
   "metadata": {},
   "source": [
    "num_iterations = 100  # fiksna vrednost\n",
    "tabu_lengths = [10, 50, 100, 200, 500, 1000]  # različite vrednosti\n",
    "\n",
    "execution_times = []\n",
    "\n",
    "for tabu_length in tabu_lengths:\n",
    "    times_for_length = [] \n",
    "    for _ in range(10): \n",
    "        start_time = time.time()\n",
    "        best_solution, best_value = tabu_search_tsp_asymmetric(distances_from_city, num_iterations, tabu_length)\n",
    "        end_time = time.time()\n",
    "        execution_time = end_time - start_time\n",
    "        times_for_length.append(execution_time)\n",
    "    execution_times.append(times_for_length)\n",
    "\n",
    "\n",
    "mean_execution_times = [sum(times) / len(times) for times in execution_times]\n",
    "\n",
    "plt.plot(tabu_lengths, mean_execution_times, marker='o')\n",
    "plt.title('Zavisnost vremena izvrsavanja od duzine tabu liste')\n",
    "plt.xlabel('Duzina tabu liste')\n",
    "plt.ylabel('Srednje vreme izvrsavanja (s)')\n",
    "plt.grid(True)\n",
    "plt.show()"
   ]
  },
  {
   "cell_type": "code",
   "execution_count": null,
   "id": "49821c81",
   "metadata": {},
   "outputs": [],
   "source": []
  },
  {
   "cell_type": "code",
   "execution_count": null,
   "id": "e08acbff",
   "metadata": {},
   "outputs": [],
   "source": []
  }
 ],
 "metadata": {
  "kernelspec": {
   "display_name": "Python 3 (ipykernel)",
   "language": "python",
   "name": "python3"
  },
  "language_info": {
   "codemirror_mode": {
    "name": "ipython",
    "version": 3
   },
   "file_extension": ".py",
   "mimetype": "text/x-python",
   "name": "python",
   "nbconvert_exporter": "python",
   "pygments_lexer": "ipython3",
   "version": "3.8.10"
  }
 },
 "nbformat": 4,
 "nbformat_minor": 5
}
