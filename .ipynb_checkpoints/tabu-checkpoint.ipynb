{
 "cells": [
  {
   "cell_type": "code",
   "execution_count": 64,
   "id": "99928c94",
   "metadata": {},
   "outputs": [],
   "source": [
    "import numpy as np\n",
    "import random\n",
    "import copy\n",
    "import math"
   ]
  },
  {
   "cell_type": "code",
   "execution_count": 65,
   "id": "40568dfc",
   "metadata": {},
   "outputs": [],
   "source": [
    "#distance_matrix = [[0,4,1,3],\n",
    "#                   [4,0,2,1],\n",
    "#                   [1,2,0,5],\n",
    "#                   [3,1,5,0]\n",
    "#                  ]"
   ]
  },
  {
   "cell_type": "code",
   "execution_count": null,
   "id": "659249b0",
   "metadata": {},
   "outputs": [],
   "source": [
    "def calculate_distance(city1, city2):\n",
    "    x1, y1 = city1\n",
    "    x2, y2 = city2\n",
    "    distance = math.sqrt((x2 - x1)**2 + (y2 - y1)**2)\n",
    "    return distance"
   ]
  },
  {
   "cell_type": "code",
   "execution_count": null,
   "id": "ab5b40de",
   "metadata": {},
   "outputs": [],
   "source": [
    "def create_distance_matrix(cities):\n",
    "    num_cities = len(cities)\n",
    "    \n",
    "    distance_matrix = []\n",
    "    for _ in range(num_cities):\n",
    "        distance_matrix.append([0] * num_cities)\n",
    "\n",
    "    for i in range(num_cities):\n",
    "        for j in range(i + 1, num_cities):\n",
    "            distance_matrix[i][j] = calculate_distance(cities[i], cities[j])\n",
    "            distance_matrix[j][i] = distance_matrix[i][j]\n",
    "\n",
    "    return distance_matrix"
   ]
  },
  {
   "cell_type": "code",
   "execution_count": 66,
   "id": "ce3ac605",
   "metadata": {},
   "outputs": [],
   "source": [
    "#def generate_initial_solution(num_cities):\n",
    "    # Generisanje početnog rešenja, na primer, slučajno permutiranjem gradova\n",
    "#    solution = list(range(num_cities))\n",
    "#    random.shuffle(solution)\n",
    "#    return solution"
   ]
  },
  {
   "cell_type": "code",
   "execution_count": 67,
   "id": "d0c0f659",
   "metadata": {},
   "outputs": [],
   "source": [
    "def initialize_solution(num_cities):\n",
    "    # Generisanje početnog rešenja, na primer, slučajnom permutacijom gradova\n",
    "    solution = random.sample(range(num_cities), num_cities)\n",
    "    return solution"
   ]
  },
  {
   "cell_type": "code",
   "execution_count": 68,
   "id": "bb6a6a31",
   "metadata": {},
   "outputs": [],
   "source": [
    "def find_best_neighbor(non_tabu_neighbors, distance_matrix):\n",
    "    best_neighbor = None\n",
    "    best_distance = float('inf')  # Postavljamo na beskonačno kao početnu vrednost\n",
    "\n",
    "    for neighbor in non_tabu_neighbors:\n",
    "        current_distance = calculate_solution(neighbor, distance_matrix)\n",
    "\n",
    "        if current_distance < best_distance:\n",
    "            best_distance = current_distance\n",
    "            best_neighbor = neighbor\n",
    "\n",
    "    return best_neighbor"
   ]
  },
  {
   "cell_type": "code",
   "execution_count": 69,
   "id": "cc46c50b",
   "metadata": {},
   "outputs": [],
   "source": [
    "# current_solution = [1,3,0,2]\n",
    "# i = 0, j = 1\n",
    "# neighbor = [3,1,0,2]\n",
    "# neighborhood = [[3,1,0,2], \n",
    "#               ]\n",
    "# i = 0, j = 2\n",
    "# neighbor = [1,3,0,2]\n",
    "# neighborhood = [[3,1,0,2], \n",
    "#                [0,3,1,2],\n",
    "#               ]\n",
    "# i = 0, j = 3\n",
    "# neighbor = [1,3,0,2]\n",
    "# neighborhood = [[3,1,0,2], \n",
    "#                [0,3,1,2],\n",
    "#                [2,3,0,1],\n",
    "#                [1,0,3,2],\n",
    "#                ....\n",
    "#               ]\n",
    "\n",
    "# neighbor =     [a,b,c,d,e] \n",
    "# rev_neighbor = [e,d,c,b,a]\n",
    "# res:           [a,d,c,b,e]\n",
    "# i = 1, j = 3\n",
    "# [a,d,c,b,e]\n",
    "\n",
    "#def generate_neighborhood(current_solution):\n",
    "#    neighborhood = []\n",
    "#    n = len(current_solution)\n",
    "\n",
    "    # Zamena dva nasumično odabrana grada\n",
    "#    for i in range(n):\n",
    "#        for j in range(i + 1, n):\n",
    "#            neighbor = current_solution.copy()\n",
    "#            neighbor[i], neighbor[j] = neighbor[j], neighbor[i]\n",
    "#            neighborhood.append(neighbor)\n",
    "\n",
    "    # Inverzija dela puta\n",
    "#    for i in range(n):\n",
    "#        for j in range(i + 2, n):\n",
    "#            neighbor = current_solution.copy()\n",
    "#            neighbor[i:j + 1] = reversed(neighbor[i:j + 1])\n",
    "#            neighborhood.append(neighbor)\n",
    "\n",
    "#    return neighborhood\n",
    "\n",
    "\n",
    "def swap(arr, i, j):\n",
    "    arr[i], arr[j] = arr[j], arr[i]\n",
    "\n",
    "def get_neighbors(current_solution):\n",
    "    neighborhood = []\n",
    "    n = len(current_solution)\n",
    "\n",
    "    # Zamena dva nasumično odabrana grada\n",
    "    for _ in range(n):\n",
    "        i, j = random.sample(range(n), 2)\n",
    "        neighbor = current_solution.copy()\n",
    "        swap(neighbor, i, j)\n",
    "        neighborhood.append(neighbor)\n",
    "\n",
    "    # Inverzija dela puta\n",
    "    for _ in range(n):\n",
    "        i, j = sorted(random.sample(range(n), 2))\n",
    "        neighbor = current_solution.copy()\n",
    "        neighbor[i:j + 1] = reversed(neighbor[i:j + 1])\n",
    "        neighborhood.append(neighbor)\n",
    "\n",
    "    return neighborhood\n"
   ]
  },
  {
   "cell_type": "code",
   "execution_count": 70,
   "id": "1dc8ae2e",
   "metadata": {},
   "outputs": [],
   "source": [
    "# solution: [0, 2, 4, 3, 5, 1]\n",
    "#        i:  0  1  2  3  4  5\n",
    "def calculate_solution(solution, distance_matrix):\n",
    "    # Evaluacija rešenja na osnovu ukupnog rastojanja u TSP-u\n",
    "    total_distance = 0\n",
    "    num_cities = len(solution)\n",
    "    \n",
    "    for i in range(num_cities - 1):\n",
    "        total_distance += distance_matrix[solution[i]][solution[i + 1]]\n",
    "    # Dodajemo rastojanje od poslednjeg do prvog grada\n",
    "    total_distance += distance_matrix[solution[-1]][solution[0]]\n",
    "    return total_distance"
   ]
  },
  {
   "cell_type": "code",
   "execution_count": 71,
   "id": "364ab593",
   "metadata": {},
   "outputs": [],
   "source": [
    "def tabu_search_tsp(distance_matrix, max_iterations, tabu_tenure):\n",
    "    # Inicijalizacija početnog rešenja\n",
    "    current_solution = initialize_solution(len(distance_matrix))\n",
    "    best_solution = current_solution\n",
    "    best_value = calculate_solution(current_solution, distance_matrix)\n",
    "    tabu_list = []\n",
    "    \n",
    "    \n",
    "    for iteration in range(max_iterations):\n",
    "        neighborhood = get_neighbors(current_solution)\n",
    "        non_tabu_neighbors = [neighbor for neighbor in neighborhood if neighbor not in tabu_list]\n",
    "\n",
    "        if not non_tabu_neighbors:\n",
    "            # Svi susedi su na tabu listi, ponovno pokrećemo pretragu\n",
    "            continue\n",
    "\n",
    "        next_solution = find_best_neighbor(non_tabu_neighbors, distance_matrix)\n",
    "        tabu_list.append(next_solution)\n",
    "\n",
    "        if len(tabu_list) > tabu_tenure:\n",
    "            tabu_list.pop(0)  # Uklanjamo najstarije rešenje sa tabu liste\n",
    "        \n",
    "        value1 = calculate_solution(next_solution, distance_matrix)\n",
    "        value2 = calculate_solution(best_solution, distance_matrix)\n",
    "        \n",
    "        if value1 < value2:\n",
    "            best_solution = next_solution\n",
    "            \n",
    "            if value1 < best_value:\n",
    "                best_value = value1\n",
    "\n",
    "        current_solution = next_solution\n",
    "\n",
    "    return best_solution, best_value"
   ]
  },
  {
   "cell_type": "code",
   "execution_count": 72,
   "id": "6072d1b6",
   "metadata": {},
   "outputs": [
    {
     "name": "stdout",
     "output_type": "stream",
     "text": [
      "[3, 0, 2, 1]\n",
      "7\n"
     ]
    }
   ],
   "source": [
    "\n",
    "print(best_solution)\n",
    "print(best_value)\n",
    "#print(\"Total Distance:\", calculate_solution(best_solution, distance_matrix))"
   ]
  },
  {
   "cell_type": "code",
   "execution_count": null,
   "id": "0d3e5a52",
   "metadata": {},
   "outputs": [],
   "source": []
  },
  {
   "cell_type": "code",
   "execution_count": null,
   "id": "8a9e4b27",
   "metadata": {},
   "outputs": [],
   "source": []
  },
  {
   "cell_type": "code",
   "execution_count": null,
   "id": "de7d56aa",
   "metadata": {},
   "outputs": [],
   "source": []
  }
 ],
 "metadata": {
  "kernelspec": {
   "display_name": "Python 3 (ipykernel)",
   "language": "python",
   "name": "python3"
  },
  "language_info": {
   "codemirror_mode": {
    "name": "ipython",
    "version": 3
   },
   "file_extension": ".py",
   "mimetype": "text/x-python",
   "name": "python",
   "nbconvert_exporter": "python",
   "pygments_lexer": "ipython3",
   "version": "3.8.10"
  }
 },
 "nbformat": 4,
 "nbformat_minor": 5
}
