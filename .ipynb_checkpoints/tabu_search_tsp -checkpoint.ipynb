{
 "cells": [
  {
   "cell_type": "code",
   "execution_count": 14,
   "id": "1de3a98d",
   "metadata": {},
   "outputs": [],
   "source": [
    "import numpy as np\n",
    "import random\n",
    "import copy\n",
    "import math\n",
    "import matplotlib.pyplot as plt"
   ]
  },
  {
   "cell_type": "code",
   "execution_count": 15,
   "id": "c36cb5fa",
   "metadata": {},
   "outputs": [],
   "source": [
    "def euclidean_distance(city1, city2):\n",
    "    x1, y1 = city1\n",
    "    x2, y2 = city2\n",
    "    return math.sqrt((x2 - x1)**2 + (y2 - y1)**2)"
   ]
  },
  {
   "cell_type": "code",
   "execution_count": 16,
   "id": "7dd5aa98",
   "metadata": {},
   "outputs": [],
   "source": [
    "def swap(arr, i, j):\n",
    "    arr[i], arr[j] = arr[j], arr[i]"
   ]
  },
  {
   "cell_type": "code",
   "execution_count": 17,
   "id": "d18f82e2",
   "metadata": {},
   "outputs": [],
   "source": [
    "def initialize_solution(num_cities):\n",
    "    # Generisanje početnog rešenja, na primer, slučajnom permutacijom gradova\n",
    "    solution = random.sample(range(num_cities), num_cities)\n",
    "    return solution\n"
   ]
  },
  {
   "cell_type": "code",
   "execution_count": 18,
   "id": "64f19a08",
   "metadata": {},
   "outputs": [],
   "source": [
    "def calculate_solution(solution, cities_coordinates):\n",
    "    # Evaluacija rešenja na osnovu ukupnog rastojanja u TSP-u\n",
    "    total_distance = 0\n",
    "    num_cities = len(solution)\n",
    "    \n",
    "    for i in range(num_cities - 1):\n",
    "        total_distance += euclidean_distance(cities_coordinates[solution[i]], cities_coordinates[solution[i + 1]])\n",
    "    # Dodajemo rastojanje od poslednjeg do prvog grada\n",
    "    total_distance += euclidean_distance(cities_coordinates[solution[-1]], cities_coordinates[solution[0]])\n",
    "    return total_distance"
   ]
  },
  {
   "cell_type": "code",
   "execution_count": 19,
   "id": "ba76fc82",
   "metadata": {},
   "outputs": [],
   "source": [
    "def get_neighbors(current_solution):\n",
    "    neighborhood = []\n",
    "    n = len(current_solution)\n",
    "\n",
    "    # Zamena dva nasumično odabrana grada\n",
    "    for _ in range(n):\n",
    "        i, j = random.sample(range(n), 2)\n",
    "        neighbor = current_solution.copy()\n",
    "        swap(neighbor, i, j)\n",
    "        neighborhood.append(neighbor)\n",
    "\n",
    "    # Inverzija dela puta\n",
    "    for _ in range(n):\n",
    "        i, j = sorted(random.sample(range(n), 2))\n",
    "        neighbor = current_solution.copy()\n",
    "        neighbor[i:j + 1] = reversed(neighbor[i:j + 1])\n",
    "        neighborhood.append(neighbor)\n",
    "\n",
    "    return neighborhood"
   ]
  },
  {
   "cell_type": "code",
   "execution_count": 20,
   "id": "62defb84",
   "metadata": {},
   "outputs": [],
   "source": [
    "def find_best_neighbor(non_tabu_neighbors, cities_coordinates):\n",
    "    best_neighbor = None\n",
    "    best_distance = float('inf')  # Postavljamo na beskonačno kao početnu vrednost\n",
    "\n",
    "    for neighbor in non_tabu_neighbors:\n",
    "        current_distance = calculate_solution(neighbor, cities_coordinates)\n",
    "\n",
    "        if current_distance < best_distance:\n",
    "            best_distance = current_distance\n",
    "            best_neighbor = neighbor\n",
    "\n",
    "    return best_neighbor"
   ]
  },
  {
   "cell_type": "code",
   "execution_count": 21,
   "id": "cb931c30",
   "metadata": {},
   "outputs": [],
   "source": [
    "def tabu_search_tsp(cities_coordinates, max_iterations, tabu_tenure):\n",
    "    # Inicijalizacija početnog rešenja\n",
    "    current_solution = initialize_solution(len(cities_coordinates))\n",
    "    best_solution = current_solution\n",
    "    best_value = calculate_solution(current_solution, cities_coordinates)\n",
    "    tabu_list = []\n",
    "    \n",
    "    for iteration in range(max_iterations):\n",
    "        neighborhood = get_neighbors(current_solution)\n",
    "        non_tabu_neighbors = [neighbor for neighbor in neighborhood if neighbor not in tabu_list]\n",
    "\n",
    "        if not non_tabu_neighbors:\n",
    "            # Svi susedi su na tabu listi, ponovno pokrećemo pretragu\n",
    "            continue\n",
    "\n",
    "        next_solution = find_best_neighbor(non_tabu_neighbors, cities_coordinates)\n",
    "        tabu_list.append(next_solution)\n",
    "\n",
    "        if len(tabu_list) > tabu_tenure:\n",
    "            tabu_list.pop(0)  # Uklanjamo najstarije rešenje sa tabu liste\n",
    "        \n",
    "        value1 = calculate_solution(next_solution, cities_coordinates)\n",
    "        value2 = calculate_solution(best_solution, cities_coordinates)\n",
    "        \n",
    "        if value1 < value2:\n",
    "            best_solution = next_solution\n",
    "            \n",
    "            if value1 < best_value:\n",
    "                best_value = value1\n",
    "\n",
    "        current_solution = next_solution\n",
    "\n",
    "    return best_solution, best_value"
   ]
  },
  {
   "cell_type": "code",
   "execution_count": 22,
   "id": "c16a9b20",
   "metadata": {},
   "outputs": [],
   "source": [
    "def read_coordinates_from_file(file_path):\n",
    "    coordinates = []\n",
    "\n",
    "    with open(file_path, 'r') as file:\n",
    "        for line_number, line in enumerate(file, start=1):\n",
    "            # Razdvajanje linije na delove pomoću razmaka\n",
    "            parts = line.split()\n",
    "\n",
    "            # Preskakanje praznih linija\n",
    "            if not parts:\n",
    "                continue\n",
    "\n",
    "            # Provera da li linija sadrži tačno dva broja (x i y koordinate)\n",
    "            if len(parts) != 2:\n",
    "                print(f\"Skipping line {line_number}: {line.strip()} (invalid values)\")\n",
    "                continue\n",
    "\n",
    "            # Konvertovanje delova u float vrednosti\n",
    "            try:\n",
    "                x, y = map(float, parts)\n",
    "            except ValueError:\n",
    "                print(f\"Skipping line {line_number}: {line.strip()} (invalid values)\")\n",
    "                continue\n",
    "\n",
    "            # Dodavanje koordinata u listu\n",
    "            coordinates.append((x, y))\n",
    "\n",
    "    return coordinates"
   ]
  },
  {
   "cell_type": "code",
   "execution_count": 23,
   "id": "1d99b3c3",
   "metadata": {},
   "outputs": [],
   "source": [
    "cities_coordinates = read_coordinates_from_file('tabu.txt')"
   ]
  },
  {
   "cell_type": "code",
   "execution_count": 24,
   "id": "a2050415",
   "metadata": {},
   "outputs": [],
   "source": [
    "#cities_coordinates = [(0, 0), (3, 4), (1, 1), (5, 2)]\n",
    "best_solution, best_value = tabu_search_tsp(cities_coordinates, 100, 10)\n",
    "print(\"Best TSP solution: \", best_solution)\n",
    "print(\"Total distance: \", best_value)"
   ]
  },
  {
   "cell_type": "code",
   "execution_count": 25,
   "id": "1abf8464",
   "metadata": {
    "scrolled": true
   },
   "outputs": [],
   "source": [
    "def plot_tsp_solution(cities_coordinates, best_solution):\n",
    "    # Extract x, y coordinates from the solution\n",
    "    try:\n",
    "        x_coords = [cities_coordinates[i][0] for i in best_solution]\n",
    "        y_coords = [cities_coordinates[i][1] for i in best_solution]\n",
    "\n",
    "        # Add the starting city to complete the cycle\n",
    "        x_coords.append(x_coords[0])\n",
    "        y_coords.append(y_coords[0])\n",
    "\n",
    "        plt.figure(figsize=(8, 6))\n",
    "        plt.plot(x_coords, y_coords, marker='o', linestyle='-', color='b')\n",
    "        plt.title('TSP Solution')\n",
    "        plt.xlabel('X Coordinate')\n",
    "        plt.ylabel('Y Coordinate')\n",
    "        plt.grid(True)\n",
    "        plt.show()\n",
    "\n",
    "    except IndexError as e:\n",
    "        print(f\"Error: {e}. Please check the values in best_solution and cities_coordinates.\")\n"
   ]
  },
  {
   "cell_type": "code",
   "execution_count": 26,
   "id": "506d9891",
   "metadata": {},
   "outputs": [],
   "source": [
    "print(\"Visual representation of the path: \")\n",
    "plot_tsp_solution(cities_coordinates, best_solution)"
   ]
  },
  {
   "cell_type": "code",
   "execution_count": null,
   "id": "bc2dc871",
   "metadata": {},
   "outputs": [],
   "source": []
  },
  {
   "cell_type": "code",
   "execution_count": null,
   "id": "9d7d45c6",
   "metadata": {},
   "outputs": [],
   "source": []
  }
 ],
 "metadata": {
  "kernelspec": {
   "display_name": "Python 3 (ipykernel)",
   "language": "python",
   "name": "python3"
  },
  "language_info": {
   "codemirror_mode": {
    "name": "ipython",
    "version": 3
   },
   "file_extension": ".py",
   "mimetype": "text/x-python",
   "name": "python",
   "nbconvert_exporter": "python",
   "pygments_lexer": "ipython3",
   "version": "3.8.10"
  }
 },
 "nbformat": 4,
 "nbformat_minor": 5
}
