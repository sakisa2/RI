{
 "cells": [
  {
   "cell_type": "code",
   "execution_count": 197,
   "id": "1de3a98d",
   "metadata": {},
   "outputs": [],
   "source": [
    "import numpy as np\n",
    "import random\n",
    "import copy\n",
    "import math\n",
    "import matplotlib.pyplot as plt"
   ]
  },
  {
   "cell_type": "code",
   "execution_count": 198,
   "id": "c36cb5fa",
   "metadata": {},
   "outputs": [],
   "source": [
    "def euclidean_distance(city1, city2):\n",
    "    x1, y1 = city1\n",
    "    x2, y2 = city2\n",
    "    return math.sqrt((x2 - x1)**2 + (y2 - y1)**2)"
   ]
  },
  {
   "cell_type": "code",
   "execution_count": 199,
   "id": "7dd5aa98",
   "metadata": {},
   "outputs": [],
   "source": [
    "def swap(array, i, j):\n",
    "    array[i], array[j] = array[j], array[i]"
   ]
  },
  {
   "cell_type": "code",
   "execution_count": 200,
   "id": "d18f82e2",
   "metadata": {},
   "outputs": [],
   "source": [
    "def initialize_solution(num_cities):\n",
    "    # Generisanje pocetnog resenja, na primer, slucajnom permutacijom gradova\n",
    "    solution = random.sample(range(num_cities), num_cities)\n",
    "    return solution"
   ]
  },
  {
   "cell_type": "code",
   "execution_count": 201,
   "id": "64f19a08",
   "metadata": {},
   "outputs": [],
   "source": [
    "def calculate_solution(solution, cities_coordinates):\n",
    "    # Evaluacija resenja na osnovu ukupnog rastojanja u TSP-u\n",
    "    total_distance = 0\n",
    "    num_cities = len(solution)\n",
    "    \n",
    "    for i in range(num_cities - 1):\n",
    "        total_distance += euclidean_distance(cities_coordinates[solution[i]], cities_coordinates[solution[i + 1]])\n",
    "    \n",
    "    # Dodajemo rastojanje od poslednjeg do prvog grada\n",
    "    total_distance += euclidean_distance(cities_coordinates[solution[-1]], cities_coordinates[solution[0]])\n",
    "    \n",
    "    return total_distance"
   ]
  },
  {
   "cell_type": "code",
   "execution_count": 202,
   "id": "4f5afeeb",
   "metadata": {},
   "outputs": [],
   "source": [
    "def get_neighbors(current_solution):\n",
    "    neighborhood = []\n",
    "    n = len(current_solution)\n",
    "\n",
    "    #zamena dva nasumicno odabrana grada\n",
    "    for _ in range(n):\n",
    "        i, j = random.sample(range(1, n), 2)  #preskacem prvi grad\n",
    "        neighbor = current_solution.copy()\n",
    "        swap(neighbor, i, j)\n",
    "        neighborhood.append(neighbor)\n",
    "\n",
    "    #inverzija dela puta\n",
    "    for _ in range(n):\n",
    "        i, j = sorted(random.sample(range(1, n), 2))\n",
    "        neighbor = current_solution[:]\n",
    "        neighbor[i:j + 1] = reversed(neighbor[i:j + 1])\n",
    "        neighborhood.append(neighbor)\n",
    "\n",
    "    return neighborhood\n",
    "#optimizacija: eliminise potrebu za pravljenjem kopije celog resenja pri svakoj inverziji dela puta\n",
    "#direktno se modifikuje trenutno resenje"
   ]
  },
  {
   "cell_type": "code",
   "execution_count": 203,
   "id": "62defb84",
   "metadata": {},
   "outputs": [],
   "source": [
    "def find_best_neighbor(non_tabu_neighbors, cities_coordinates):\n",
    "    best_neighbor = None\n",
    "    best_distance = float('inf')  # Postavljamo na beskonacno kao pocetnu vrednost\n",
    "\n",
    "    for neighbor in non_tabu_neighbors:\n",
    "        current_distance = calculate_solution(neighbor, cities_coordinates)\n",
    "\n",
    "        if current_distance < best_distance:\n",
    "            best_distance = current_distance\n",
    "            best_neighbor = neighbor\n",
    "\n",
    "    return best_neighbor"
   ]
  },
  {
   "cell_type": "code",
   "execution_count": 204,
   "id": "cb931c30",
   "metadata": {},
   "outputs": [
    {
     "ename": "NameError",
     "evalue": "name 'User' is not defined",
     "output_type": "error",
     "traceback": [
      "\u001b[0;31m---------------------------------------------------------------------------\u001b[0m",
      "\u001b[0;31mNameError\u001b[0m                                 Traceback (most recent call last)",
      "Cell \u001b[0;32mIn[204], line 1\u001b[0m\n\u001b[0;32m----> 1\u001b[0m \u001b[43mUser\u001b[49m\n\u001b[1;32m      2\u001b[0m \u001b[38;5;28;01mdef\u001b[39;00m \u001b[38;5;21mtabu_search_tsp\u001b[39m(cities_coordinates, num_iterations, tabu_length):\n\u001b[1;32m      3\u001b[0m    \u001b[38;5;66;03m# Inicijalizacija pocetnog resenja\u001b[39;00m\n\u001b[1;32m      4\u001b[0m    current_solution \u001b[38;5;241m=\u001b[39m initialize_solution(\u001b[38;5;28mlen\u001b[39m(cities_coordinates))\n",
      "\u001b[0;31mNameError\u001b[0m: name 'User' is not defined"
     ]
    }
   ],
   "source": [
    "def tabu_search_tsp(cities_coordinates, num_iterations, tabu_length):\n",
    "    # Inicijalizacija pocetnog resenja\n",
    "    current_solution = initialize_solution(len(cities_coordinates))\n",
    "    print(\"pocetno:\")\n",
    "    print(current_solution)\n",
    "    best_solution = current_solution\n",
    "    best_value = calculate_solution(current_solution, cities_coordinates)\n",
    "    tabu_list = []\n",
    "    \n",
    "    for iteration in range(num_iterations):\n",
    "        neighborhood = get_neighbors(current_solution)\n",
    "        non_tabu_neighbors = [neighbor for neighbor in neighborhood if neighbor not in tabu_list]\n",
    "\n",
    "        if not non_tabu_neighbors:\n",
    "            # Svi susedi su na tabu listi, ponovno pokrecemo pretragu\n",
    "            continue\n",
    "\n",
    "        next_solution = find_best_neighbor(non_tabu_neighbors, cities_coordinates)\n",
    "        tabu_list.append(next_solution)\n",
    "\n",
    "        if len(tabu_list) > tabu_length:\n",
    "            tabu_list.pop(0)  # Uklanjamo najstarije resenje sa tabu liste\n",
    "        \n",
    "        value1 = calculate_solution(next_solution, cities_coordinates)\n",
    "        value2 = calculate_solution(best_solution, cities_coordinates)\n",
    "        \n",
    "        if value1 < value2:\n",
    "            best_solution = next_solution\n",
    "            \n",
    "            if value1 < best_value:\n",
    "                best_value = value1\n",
    "\n",
    "        current_solution = next_solution\n",
    "\n",
    "    return best_solution, best_value"
   ]
  },
  {
   "cell_type": "code",
   "execution_count": 205,
   "id": "c16a9b20",
   "metadata": {},
   "outputs": [],
   "source": [
    "def read_coordinates_from_file(file_path):\n",
    "    coordinates = []\n",
    "\n",
    "    with open(file_path, 'r') as file:\n",
    "        for line_number, line in enumerate(file, start=1):\n",
    "            # Razdvajanje linije na delove pomocu razmaka\n",
    "            parts = line.split()\n",
    "\n",
    "            # Preskakanje praznih linija\n",
    "            if not parts:\n",
    "                continue\n",
    "\n",
    "            # Provera da li linija sadrzi tacno dva broja (x i y koordinate)\n",
    "            if len(parts) != 2:\n",
    "                print(f\"Skipping line {line_number}: {line.strip()} (invalid values)\")\n",
    "                continue\n",
    "\n",
    "            # Konvertovanje delova u float vrednosti\n",
    "            try:\n",
    "                x, y = map(float, parts)\n",
    "            except ValueError:\n",
    "                print(f\"Skipping line {line_number}: {line.strip()} (invalid values)\")\n",
    "                continue\n",
    "\n",
    "            # Dodavanje koordinata u listu\n",
    "            coordinates.append((x, y))\n",
    "\n",
    "    return coordinates"
   ]
  },
  {
   "cell_type": "code",
   "execution_count": 206,
   "id": "1d99b3c3",
   "metadata": {},
   "outputs": [],
   "source": [
    "cities_coordinates = read_coordinates_from_file('tabu.txt')"
   ]
  },
  {
   "cell_type": "code",
   "execution_count": 207,
   "id": "a2050415",
   "metadata": {},
   "outputs": [
    {
     "name": "stdout",
     "output_type": "stream",
     "text": [
      "pocetno:\n",
      "[1, 4, 0, 2, 3, 5]\n"
     ]
    },
    {
     "ename": "KeyError",
     "evalue": "(1, 0, 2, 3, 4, 5)",
     "output_type": "error",
     "traceback": [
      "\u001b[0;31m---------------------------------------------------------------------------\u001b[0m",
      "\u001b[0;31mKeyError\u001b[0m                                  Traceback (most recent call last)",
      "Cell \u001b[0;32mIn[207], line 2\u001b[0m\n\u001b[1;32m      1\u001b[0m \u001b[38;5;66;03m#cities_coordinates = [(0, 0), (3, 4), (1, 1), (5, 2)]\u001b[39;00m\n\u001b[0;32m----> 2\u001b[0m best_solution, best_value \u001b[38;5;241m=\u001b[39m \u001b[43mtabu_search_tsp\u001b[49m\u001b[43m(\u001b[49m\u001b[43mcities_coordinates\u001b[49m\u001b[43m,\u001b[49m\u001b[43m \u001b[49m\u001b[38;5;241;43m100\u001b[39;49m\u001b[43m,\u001b[49m\u001b[43m \u001b[49m\u001b[38;5;241;43m10\u001b[39;49m\u001b[43m)\u001b[49m\n\u001b[1;32m      3\u001b[0m \u001b[38;5;28mprint\u001b[39m(\u001b[38;5;124m\"\u001b[39m\u001b[38;5;124mBest TSP solution: \u001b[39m\u001b[38;5;124m\"\u001b[39m, best_solution)\n\u001b[1;32m      4\u001b[0m \u001b[38;5;28mprint\u001b[39m(\u001b[38;5;124m\"\u001b[39m\u001b[38;5;124mTotal distance: \u001b[39m\u001b[38;5;124m\"\u001b[39m, best_value)\n",
      "Cell \u001b[0;32mIn[193], line 21\u001b[0m, in \u001b[0;36mtabu_search_tsp\u001b[0;34m(cities_coordinates, num_iterations, tabu_length)\u001b[0m\n\u001b[1;32m     19\u001b[0m tabu_list\u001b[38;5;241m.\u001b[39madd(\u001b[38;5;28mtuple\u001b[39m(next_solution))  \u001b[38;5;66;03m# Dodajemo tuple umesto liste u set\u001b[39;00m\n\u001b[1;32m     20\u001b[0m \u001b[38;5;28;01mif\u001b[39;00m \u001b[38;5;28mlen\u001b[39m(tabu_list) \u001b[38;5;241m>\u001b[39m tabu_length:\n\u001b[0;32m---> 21\u001b[0m     \u001b[43mtabu_list\u001b[49m\u001b[38;5;241;43m.\u001b[39;49m\u001b[43mremove\u001b[49m\u001b[43m(\u001b[49m\u001b[43mtabu_list\u001b[49m\u001b[38;5;241;43m.\u001b[39;49m\u001b[43mpop\u001b[49m\u001b[43m(\u001b[49m\u001b[43m)\u001b[49m\u001b[43m)\u001b[49m  \u001b[38;5;66;03m# Uklanjamo najstarije resenje iz tabu liste\u001b[39;00m\n\u001b[1;32m     23\u001b[0m value1 \u001b[38;5;241m=\u001b[39m calculate_solution(next_solution, cities_coordinates)\n\u001b[1;32m     24\u001b[0m value2 \u001b[38;5;241m=\u001b[39m calculate_solution(best_solution, cities_coordinates)\n",
      "\u001b[0;31mKeyError\u001b[0m: (1, 0, 2, 3, 4, 5)"
     ]
    }
   ],
   "source": [
    "#cities_coordinates = [(0, 0), (3, 4), (1, 1), (5, 2)]\n",
    "best_solution, best_value = tabu_search_tsp(cities_coordinates, 100, 10)\n",
    "print(\"Best TSP solution: \", best_solution)\n",
    "print(\"Total distance: \", best_value)"
   ]
  },
  {
   "cell_type": "code",
   "execution_count": 179,
   "id": "1abf8464",
   "metadata": {
    "scrolled": true
   },
   "outputs": [],
   "source": [
    "def plot_tsp_solution(cities_coordinates, best_solution):\n",
    "    # ekstrahujemo koordinate iz solution\n",
    "    try:\n",
    "        x_coords = [cities_coordinates[i][0] for i in best_solution]\n",
    "        y_coords = [cities_coordinates[i][1] for i in best_solution]\n",
    "\n",
    "        # dodajemo na kraju pocetni cvor\n",
    "        x_coords.append(x_coords[0])\n",
    "        y_coords.append(y_coords[0])\n",
    "\n",
    "        plt.figure(figsize=(8, 6))\n",
    "        plt.plot(x_coords, y_coords, marker='o', linestyle='-', color='b')\n",
    "        plt.title('TSP Solution')\n",
    "        plt.xlabel('X Coordinate')\n",
    "        plt.ylabel('Y Coordinate')\n",
    "        plt.grid(True)\n",
    "        plt.show()\n",
    "\n",
    "    except IndexError as e:\n",
    "        print(f\"Error: {e}. Please check the values in best_solution and cities_coordinates.\")\n"
   ]
  },
  {
   "cell_type": "code",
   "execution_count": 180,
   "id": "506d9891",
   "metadata": {},
   "outputs": [
    {
     "name": "stdout",
     "output_type": "stream",
     "text": [
      "Visual representation of the path: \n"
     ]
    },
    {
     "data": {
      "image/png": "[encoded data removed]",
      "text/plain": [
       "<Figure size 800x600 with 1 Axes>"
      ]
     },
     "metadata": {},
     "output_type": "display_data"
    }
   ],
   "source": [
    "print(\"Visual representation of the path: \")\n",
    "plot_tsp_solution(cities_coordinates, best_solution)"
   ]
  },
  {
   "cell_type": "markdown",
   "id": "cca1281c",
   "metadata": {},
   "source": [
    "Veliki ulazi"
   ]
  },
  {
   "cell_type": "code",
   "execution_count": 181,
   "id": "e8a8629e",
   "metadata": {},
   "outputs": [],
   "source": [
    "import json"
   ]
  },
  {
   "cell_type": "code",
   "execution_count": 182,
   "id": "93880f4a",
   "metadata": {},
   "outputs": [],
   "source": [
    "def load_test_data(file_path):\n",
    "    with open(file_path, 'r') as file:\n",
    "        test_data = json.load(file)\n",
    "    return test_data"
   ]
  },
  {
   "cell_type": "code",
   "execution_count": 183,
   "id": "6e3844f2",
   "metadata": {},
   "outputs": [],
   "source": [
    "test_data = load_test_data('test_data.json')"
   ]
  },
  {
   "cell_type": "code",
   "execution_count": 184,
   "id": "1544e44f",
   "metadata": {},
   "outputs": [],
   "source": [
    "cities_coordinates = test_data['cities_coordinates']\n",
    "num_iterations = test_data['num_iterations']\n",
    "tabu_length = test_data['tabu_length']"
   ]
  },
  {
   "cell_type": "code",
   "execution_count": 185,
   "id": "62901f7b",
   "metadata": {},
   "outputs": [
    {
     "name": "stdout",
     "output_type": "stream",
     "text": [
      "pocetno:\n",
      "[40, 30, 13, 10, 47, 19, 32, 38, 5, 28, 48, 6, 39, 23, 42, 25, 12, 9, 41, 7, 44, 8, 11, 49, 16, 2, 15, 34, 26, 14, 20, 22, 1, 4, 27, 35, 31, 46, 36, 29, 33, 21, 18, 24, 37, 0, 3, 17, 43, 45]\n",
      "Najbolje pronadjeno resenje: [40, 41, 44, 46, 48, 49, 47, 45, 43, 42, 39, 38, 37, 36, 34, 32, 31, 28, 24, 22, 19, 18, 15, 14, 12, 10, 9, 6, 5, 4, 3, 1, 0, 2, 7, 8, 11, 13, 16, 17, 20, 21, 23, 25, 26, 27, 29, 30, 33, 35]\n",
      "Najbolja vrednost: 1387.3520374754269\n"
     ]
    }
   ],
   "source": [
    "best_solution, best_value = tabu_search_tsp(cities_coordinates, num_iterations, tabu_length)\n",
    "\n",
    "print(\"Najbolje pronadjeno resenje:\", best_solution)\n",
    "print(\"Najbolja vrednost:\", best_value)"
   ]
  },
  {
   "cell_type": "code",
   "execution_count": null,
   "id": "c87a9262",
   "metadata": {},
   "outputs": [],
   "source": []
  }
 ],
 "metadata": {
  "kernelspec": {
   "display_name": "Python 3 (ipykernel)",
   "language": "python",
   "name": "python3"
  },
  "language_info": {
   "codemirror_mode": {
    "name": "ipython",
    "version": 3
   },
   "file_extension": ".py",
   "mimetype": "text/x-python",
   "name": "python",
   "nbconvert_exporter": "python",
   "pygments_lexer": "ipython3",
   "version": "3.8.10"
  }
 },
 "nbformat": 4,
 "nbformat_minor": 5
}
