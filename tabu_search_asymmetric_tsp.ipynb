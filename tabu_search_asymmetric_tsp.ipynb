{
 "cells": [
  {
   "cell_type": "code",
   "execution_count": 35,
   "id": "1db5776f",
   "metadata": {},
   "outputs": [],
   "source": [
    "import numpy as np\n",
    "import random\n",
    "import copy\n",
    "import math\n",
    "import matplotlib.pyplot as plt"
   ]
  },
  {
   "cell_type": "code",
   "execution_count": 36,
   "id": "21d463c8",
   "metadata": {},
   "outputs": [],
   "source": [
    "distances_from_city=[[0, 5, 2, 7],\n",
    "                     [3, 0, 4, 6],\n",
    "                     [1, 2, 0, 4],\n",
    "                     [8, 3, 6, 0]]"
   ]
  },
  {
   "cell_type": "code",
   "execution_count": 37,
   "id": "bd41c11e",
   "metadata": {},
   "outputs": [],
   "source": [
    "def initialize_solution(num_cities):\n",
    "    # Generisanje početnog rešenja, na primer, slučajnom permutacijom gradova\n",
    "    solution = random.sample(range(num_cities), num_cities)\n",
    "    return solution"
   ]
  },
  {
   "cell_type": "code",
   "execution_count": 38,
   "id": "d9c4be79",
   "metadata": {},
   "outputs": [],
   "source": [
    "def asymmetric_swap(arr, i, j):\n",
    "    arr[i], arr[j] = arr[j], arr[i]"
   ]
  },
  {
   "cell_type": "code",
   "execution_count": 39,
   "id": "3da08d06",
   "metadata": {},
   "outputs": [],
   "source": [
    "def asymmetric_distance(city1, city2, distances_from_city):\n",
    "    return distances_from_city[city1][city2]"
   ]
  },
  {
   "cell_type": "code",
   "execution_count": 40,
   "id": "4aaab359",
   "metadata": {},
   "outputs": [],
   "source": [
    "def calculate_solution_asymmetric(solution, distances_from_city):\n",
    "    total_distance = 0\n",
    "    num_cities = len(solution)\n",
    " \n",
    "    for i in range(num_cities - 1):\n",
    "        total_distance += asymmetric_distance(solution[i], solution[i + 1], distances_from_city)\n",
    "    total_distance += asymmetric_distance(solution[-1], solution[0], distances_from_city)\n",
    "    return total_distance"
   ]
  },
  {
   "cell_type": "code",
   "execution_count": 41,
   "id": "91290674",
   "metadata": {},
   "outputs": [],
   "source": [
    "def get_asymmetric_neighbors(current_solution):\n",
    "    neighborhood = []\n",
    "    n = len(current_solution)\n",
    "\n",
    "    for _ in range(n):\n",
    "        i, j = random.sample(range(n), 2)\n",
    "        neighbor = current_solution.copy()\n",
    "        asymmetric_swap(neighbor, i, j)\n",
    "        neighborhood.append(neighbor)\n",
    "\n",
    "    for _ in range(n):\n",
    "        i, j = sorted(random.sample(range(n), 2))\n",
    "        neighbor = current_solution.copy()\n",
    "        neighbor[i:j + 1] = reversed(neighbor[i:j + 1])\n",
    "        neighborhood.append(neighbor)\n",
    "\n",
    "    return neighborhood"
   ]
  },
  {
   "cell_type": "code",
   "execution_count": 42,
   "id": "3d634286",
   "metadata": {},
   "outputs": [],
   "source": [
    "def find_best_asymmetric_neighbor(non_tabu_neighbors, distances_from_city):\n",
    "    best_neighbor = None\n",
    "    best_distance = float('inf')\n",
    "\n",
    "    for neighbor in non_tabu_neighbors:\n",
    "        current_distance = calculate_solution_asymmetric(neighbor, distances_from_city)\n",
    "\n",
    "        if current_distance < best_distance:\n",
    "            best_distance = current_distance\n",
    "            best_neighbor = neighbor\n",
    "\n",
    "    return best_neighbor"
   ]
  },
  {
   "cell_type": "code",
   "execution_count": 43,
   "id": "7828725e",
   "metadata": {},
   "outputs": [],
   "source": [
    "def tabu_search_tsp_asymmetric(distances_from_city, max_iterations, tabu_tenure):\n",
    "    current_solution = initialize_solution(len(distances_from_city))\n",
    "    best_solution = current_solution\n",
    "    best_value = calculate_solution_asymmetric(current_solution, distances_from_city)\n",
    "    tabu_list = []\n",
    "\n",
    "    for iteration in range(max_iterations):\n",
    "        neighborhood = get_asymmetric_neighbors(current_solution)\n",
    "        non_tabu_neighbors = [neighbor for neighbor in neighborhood if neighbor not in tabu_list]\n",
    "\n",
    "        if not non_tabu_neighbors:\n",
    "            continue\n",
    "\n",
    "        next_solution = find_best_asymmetric_neighbor(non_tabu_neighbors, distances_from_city)\n",
    "        tabu_list.append(next_solution)\n",
    "\n",
    "        if len(tabu_list) > tabu_tenure:\n",
    "            tabu_list.pop(0)\n",
    "\n",
    "        value1 = calculate_solution_asymmetric(next_solution, distances_from_city)\n",
    "        value2 = calculate_solution_asymmetric(best_solution, distances_from_city)\n",
    "\n",
    "        if value1 < value2:\n",
    "            best_solution = next_solution\n",
    "\n",
    "            if value1 < best_value:\n",
    "                best_value = value1\n",
    "\n",
    "        current_solution = next_solution\n",
    "\n",
    "    return best_solution, best_value"
   ]
  },
  {
   "cell_type": "code",
   "execution_count": 44,
   "id": "248724d0",
   "metadata": {},
   "outputs": [
    {
     "name": "stdout",
     "output_type": "stream",
     "text": [
      "Best TSP solution:  [3, 1, 0, 2]\n",
      "Total distance:  12\n"
     ]
    }
   ],
   "source": [
    "best_solution, best_value = tabu_search_tsp_asymmetric(distances_from_city, 10, 10)\n",
    "print(\"Best TSP solution: \", best_solution)\n",
    "print(\"Total distance: \", best_value)"
   ]
  },
  {
   "cell_type": "code",
   "execution_count": 45,
   "id": "44b2aadc",
   "metadata": {},
   "outputs": [],
   "source": [
    "def plot_tsp_path(coordinates, best_solution):\n",
    "    x_coords = [coordinates[city][0] for city in best_solution]\n",
    "    y_coords = [coordinates[city][1] for city in best_solution]\n",
    "\n",
    "    # Dodajemo poslednji segment koji povezuje poslednji grad sa prvim\n",
    "    x_coords.append(x_coords[0])\n",
    "    y_coords.append(y_coords[0])\n",
    "\n",
    "    plt.plot(x_coords, y_coords, marker='o', linestyle='-')\n",
    "    plt.title('Asymmetric TSP Solution')\n",
    "    plt.xlabel('X Coordinate')\n",
    "    plt.ylabel('Y Coordinate')\n",
    "    plt.grid(True)\n",
    "    plt.show()"
   ]
  },
  {
   "cell_type": "code",
   "execution_count": 46,
   "id": "77d88693",
   "metadata": {},
   "outputs": [],
   "source": [
    "# Primer poziva funkcije za crtanje putanje sa stvarnim koordinatama gradova\n",
    "coordinates = [\n",
    "    (0, 0),  # Koordinate za grad A\n",
    "    (3, 4),  # Koordinate za grad B\n",
    "    (1, 1),  # Koordinate za grad C\n",
    "    (5, 2)   # Koordinate za grad D\n",
    "]"
   ]
  },
  {
   "cell_type": "code",
   "execution_count": 47,
   "id": "bf8936da",
   "metadata": {},
   "outputs": [
    {
     "name": "stdout",
     "output_type": "stream",
     "text": [
      "Visual representation of the path: \n"
     ]
    },
    {
     "data": {
      "image/png": "[encoded data removed]",
      "text/plain": [
       "<Figure size 640x480 with 1 Axes>"
      ]
     },
     "metadata": {},
     "output_type": "display_data"
    }
   ],
   "source": [
    "print(\"Visual representation of the path: \")\n",
    "plot_tsp_path(coordinates, best_solution)"
   ]
  },
  {
   "cell_type": "code",
   "execution_count": null,
   "id": "a098ac03",
   "metadata": {},
   "outputs": [],
   "source": []
  }
 ],
 "metadata": {
  "kernelspec": {
   "display_name": "Python 3 (ipykernel)",
   "language": "python",
   "name": "python3"
  },
  "language_info": {
   "codemirror_mode": {
    "name": "ipython",
    "version": 3
   },
   "file_extension": ".py",
   "mimetype": "text/x-python",
   "name": "python",
   "nbconvert_exporter": "python",
   "pygments_lexer": "ipython3",
   "version": "3.8.10"
  }
 },
 "nbformat": 4,
 "nbformat_minor": 5
}
